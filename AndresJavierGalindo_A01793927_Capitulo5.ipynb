{
  "metadata": {
    "kernelspec": {
      "name": "python",
      "display_name": "Pyolite",
      "language": "python"
    },
    "language_info": {
      "codemirror_mode": {
        "name": "python",
        "version": 3
      },
      "file_extension": ".py",
      "mimetype": "text/x-python",
      "name": "python",
      "nbconvert_exporter": "python",
      "pygments_lexer": "ipython3",
      "version": "3.8"
    },
    "colab": {
      "provenance": [],
      "collapsed_sections": [],
      "include_colab_link": true
    }
  },
  "nbformat_minor": 0,
  "nbformat": 4,
  "cells": [
    {
      "cell_type": "markdown",
      "metadata": {
        "id": "view-in-github",
        "colab_type": "text"
      },
      "source": [
        "<a href=\"https://colab.research.google.com/github/PosgradoMNA/actividades-de-aprendizaje-A01793927/blob/main/AndresJavierGalindo_A01793927_Capitulo5.ipynb\" target=\"_parent\"><img src=\"https://colab.research.google.com/assets/colab-badge.svg\" alt=\"Open In Colab\"/></a>"
      ]
    },
    {
      "cell_type": "markdown",
      "source": [
        "\n",
        "\n",
        "# Numpy En Python\n",
        "\n",
        "Andres Javier Galindo \n",
        "A01793927\n",
        "\n",
        "## Objectivos\n",
        "\n",
        "\n",
        "* Importar y usar la biblioteca `numpy`\n",
        "* Realizar operaciones con `numpy``\n"
      ],
      "metadata": {
        "id": "gHnF9pQ7oUe3"
      }
    },
    {
      "cell_type": "code",
      "source": [
        "# Crear lista en python\n",
        "\n",
        "a = [\"0\", 1, \"two\", \"3\", 4]"
      ],
      "metadata": {
        "trusted": true,
        "id": "6Ytfk4g-oUfE"
      },
      "execution_count": null,
      "outputs": []
    },
    {
      "cell_type": "code",
      "source": [
        "# imprimir los elementos\n",
        "\n",
        "print(\"a[0]:\", a[0])\n",
        "print(\"a[1]:\", a[1])\n",
        "print(\"a[2]:\", a[2])\n",
        "print(\"a[3]:\", a[3])\n",
        "print(\"a[4]:\", a[4])"
      ],
      "metadata": {
        "trusted": true,
        "id": "jIHbdIwRoUfJ",
        "outputId": "b8f728ef-8e69-4b25-efd0-6a444b53437b"
      },
      "execution_count": null,
      "outputs": [
        {
          "name": "stdout",
          "text": "a[0]: 0\na[1]: 1\na[2]: two\na[3]: 3\na[4]: 4\n",
          "output_type": "stream"
        }
      ]
    },
    {
      "cell_type": "markdown",
      "source": [
        "<hr>\n"
      ],
      "metadata": {
        "id": "tedMr-YGoUfK"
      }
    },
    {
      "cell_type": "markdown",
      "source": [
        "<h2 id=\"numpy\">Uso Numpy</h2>\n"
      ],
      "metadata": {
        "id": "0RGdvJpRoUfL"
      }
    },
    {
      "cell_type": "code",
      "source": [
        "# importar libreria numpy\n",
        "\n",
        "import numpy as np "
      ],
      "metadata": {
        "trusted": true,
        "id": "S5MoqUvIoUfM"
      },
      "execution_count": 2,
      "outputs": []
    },
    {
      "cell_type": "markdown",
      "source": [
        "We then cast the list as follows:\n"
      ],
      "metadata": {
        "id": "2AI7DEnNoUfN"
      }
    },
    {
      "cell_type": "code",
      "source": [
        "# Crear una matriz numpy\n",
        "\n",
        "a = np.array([0, 1, 2, 3, 4])\n",
        "a"
      ],
      "metadata": {
        "trusted": true,
        "colab": {
          "base_uri": "https://localhost:8080/"
        },
        "id": "7EG6awjMoUfN",
        "outputId": "693e3dca-864a-45c0-cba5-2f50279e1ff4"
      },
      "execution_count": 3,
      "outputs": [
        {
          "output_type": "execute_result",
          "data": {
            "text/plain": [
              "array([0, 1, 2, 3, 4])"
            ]
          },
          "metadata": {},
          "execution_count": 3
        }
      ]
    },
    {
      "cell_type": "code",
      "source": [
        "# imprimr el  elemento\n",
        "\n",
        "print(\"a[0]:\", a[0])\n",
        "print(\"a[1]:\", a[1])\n",
        "print(\"a[2]:\", a[2])\n",
        "print(\"a[3]:\", a[3])\n",
        "print(\"a[4]:\", a[4])"
      ],
      "metadata": {
        "trusted": true,
        "id": "FT8KA0IloUfP",
        "outputId": "057dc45c-0608-4a3d-98d5-56dd3e1807af"
      },
      "execution_count": null,
      "outputs": [
        {
          "name": "stdout",
          "text": "a[0]: 0\na[1]: 1\na[2]: 2\na[3]: 3\na[4]: 4\n",
          "output_type": "stream"
        }
      ]
    },
    {
      "cell_type": "markdown",
      "source": [
        "### Comprobación de la versión NumPy\n",
        "\n",
        "\n"
      ],
      "metadata": {
        "id": "7LR1vw78oUfQ"
      }
    },
    {
      "cell_type": "code",
      "source": [
        "print(np.__version__)"
      ],
      "metadata": {
        "trusted": true,
        "colab": {
          "base_uri": "https://localhost:8080/"
        },
        "id": "BabsFt1NoUfQ",
        "outputId": "b63c1a7f-3f48-4b03-fdc4-a770e637386e"
      },
      "execution_count": 4,
      "outputs": [
        {
          "output_type": "stream",
          "name": "stdout",
          "text": [
            "1.21.6\n"
          ]
        }
      ]
    },
    {
      "cell_type": "markdown",
      "source": [
        "<h3 id=\"tipo\">Type</h3>\n"
      ],
      "metadata": {
        "id": "gxeorloEoUfQ"
      }
    },
    {
      "cell_type": "code",
      "source": [
        "# tipo del array\n",
        "\n",
        "type(a)"
      ],
      "metadata": {
        "trusted": true,
        "colab": {
          "base_uri": "https://localhost:8080/"
        },
        "id": "7t53wCwRoUfR",
        "outputId": "a746a41b-028e-48ef-db8c-0426463644c2"
      },
      "execution_count": 5,
      "outputs": [
        {
          "output_type": "execute_result",
          "data": {
            "text/plain": [
              "numpy.ndarray"
            ]
          },
          "metadata": {},
          "execution_count": 5
        }
      ]
    },
    {
      "cell_type": "code",
      "source": [
        "# Valores de la matriz\n",
        "\n",
        "a.dtype"
      ],
      "metadata": {
        "trusted": true,
        "colab": {
          "base_uri": "https://localhost:8080/"
        },
        "id": "6M01zQaioUfS",
        "outputId": "f3e043ed-27f5-4620-9ea4-dc28d0e5d3d5"
      },
      "execution_count": 6,
      "outputs": [
        {
          "output_type": "execute_result",
          "data": {
            "text/plain": [
              "dtype('int64')"
            ]
          },
          "metadata": {},
          "execution_count": 6
        }
      ]
    },
    {
      "cell_type": "code",
      "source": [
        "b = np.array([3.1, 11.02, 6.2, 213.2, 5.2])\n",
        "type(b)\n",
        "    \n",
        "b.dtype \n",
        "\n",
        "\n"
      ],
      "metadata": {
        "trusted": true,
        "colab": {
          "base_uri": "https://localhost:8080/"
        },
        "id": "-v8jFt7ioUfT",
        "outputId": "62a6f066-8b6c-4fac-a60b-cf4e2c5c71f6"
      },
      "execution_count": 7,
      "outputs": [
        {
          "output_type": "execute_result",
          "data": {
            "text/plain": [
              "dtype('float64')"
            ]
          },
          "metadata": {},
          "execution_count": 7
        }
      ]
    },
    {
      "cell_type": "code",
      "source": [
        "# Crea array  numpy\n",
        "\n",
        "c = np.array([20, 1, 2, 3, 4])\n",
        "c"
      ],
      "metadata": {
        "trusted": true,
        "colab": {
          "base_uri": "https://localhost:8080/"
        },
        "id": "hyr4_AU7oUfU",
        "outputId": "aeaa52d1-a84e-422e-c7a8-464c68276282"
      },
      "execution_count": 8,
      "outputs": [
        {
          "output_type": "execute_result",
          "data": {
            "text/plain": [
              "array([20,  1,  2,  3,  4])"
            ]
          },
          "metadata": {},
          "execution_count": 8
        }
      ]
    },
    {
      "cell_type": "code",
      "source": [
        "# Asigne el primer elemento a 100\n",
        "c[0] = 100\n",
        "c"
      ],
      "metadata": {
        "trusted": true,
        "id": "BGrYhaWmoUfU",
        "outputId": "601c744d-f8ac-4713-99a4-37de06075ab4"
      },
      "execution_count": null,
      "outputs": [
        {
          "execution_count": 12,
          "output_type": "execute_result",
          "data": {
            "text/plain": "array([100,   1,   2,   3,   4])"
          },
          "metadata": {}
        }
      ]
    },
    {
      "cell_type": "markdown",
      "source": [
        "### \n",
        "\n",
        "Asigne el valor 20 para el segundo elemento en la matriz dada..\n"
      ],
      "metadata": {
        "id": "pSzoXIsloUfV"
      }
    },
    {
      "cell_type": "code",
      "source": [
        "a = np.array([10, 2, 30, 40,50])\n",
        "a[1]=20\n",
        "a\n",
        "\n"
      ],
      "metadata": {
        "trusted": true,
        "colab": {
          "base_uri": "https://localhost:8080/"
        },
        "id": "dY84KC4EoUfW",
        "outputId": "def9eca0-a333-4da8-c1fb-088b78aa5afa"
      },
      "execution_count": 9,
      "outputs": [
        {
          "output_type": "execute_result",
          "data": {
            "text/plain": [
              "array([10, 20, 30, 40, 50])"
            ]
          },
          "metadata": {},
          "execution_count": 9
        }
      ]
    },
    {
      "cell_type": "markdown",
      "source": [
        "<h3 id=\"slice\">Rangos</h3>\n"
      ],
      "metadata": {
        "id": "tfHIjiUKoUfW"
      }
    },
    {
      "cell_type": "code",
      "source": [
        "# Rango del array\n",
        "\n",
        "d = c[1:4]\n",
        "d"
      ],
      "metadata": {
        "trusted": true,
        "colab": {
          "base_uri": "https://localhost:8080/"
        },
        "id": "C13RVe9zoUfX",
        "outputId": "2058ef3a-cfcf-4407-b07c-d6316b51d689"
      },
      "execution_count": 10,
      "outputs": [
        {
          "output_type": "execute_result",
          "data": {
            "text/plain": [
              "array([1, 2, 3])"
            ]
          },
          "metadata": {},
          "execution_count": 10
        }
      ]
    },
    {
      "cell_type": "markdown",
      "source": [
        "<h3 id=\"list\">Asignar valor con lista</h3>\n"
      ],
      "metadata": {
        "id": "bV1cAlPUoUfa"
      }
    },
    {
      "cell_type": "code",
      "source": [
        "# Crear la lista de índice\n",
        "\n",
        "select = [0, 2, 3, 4]\n",
        "select"
      ],
      "metadata": {
        "trusted": true,
        "colab": {
          "base_uri": "https://localhost:8080/"
        },
        "id": "j7E_6uNNoUfa",
        "outputId": "10c18317-2b01-42f3-9dcf-fd7c6cec5694"
      },
      "execution_count": 11,
      "outputs": [
        {
          "output_type": "execute_result",
          "data": {
            "text/plain": [
              "[0, 2, 3, 4]"
            ]
          },
          "metadata": {},
          "execution_count": 11
        }
      ]
    },
    {
      "cell_type": "code",
      "source": [
        "# Importar las librerias\n",
        "\n",
        "import time \n",
        "import sys\n",
        "import numpy as np \n",
        "\n",
        "import matplotlib.pyplot as plt\n",
        "%matplotlib inline  \n",
        "\n",
        "def Plotvec2(a,b):\n",
        "    ax = plt.axes()# to generate the full window axes\n",
        "    ax.arrow(0, 0, *a, head_width=0.05, color ='r', head_length=0.1)#Add an arrow to the  a Axes with arrow head width 0.05, color red and arrow head length 0.1\n",
        "    plt.text(*(a + 0.1), 'a')\n",
        "    ax.arrow(0, 0, *b, head_width=0.05, color ='b', head_length=0.1)#Add an arrow to the  b Axes with arrow head width 0.05, color blue and arrow head length 0.1\n",
        "    plt.text(*(b + 0.1), 'b')\n",
        "    plt.ylim(-2, 2)#set the ylim to bottom(-2), top(2)\n",
        "    plt.xlim(-2, 2)#set the xlim to left(-2), right(2)\n",
        "    \n",
        "    \n"
      ],
      "metadata": {
        "trusted": true,
        "id": "f5u-8ijKoUgD"
      },
      "execution_count": 14,
      "outputs": []
    },
    {
      "cell_type": "code",
      "source": [
        "\n",
        "a = np.array([-1, 1])\n",
        "b = np.array([1, 1])\n",
        "Plotvec2(a, b)\n",
        "print(\"The dot product is\", np.dot(a,b))"
      ],
      "metadata": {
        "trusted": true,
        "colab": {
          "base_uri": "https://localhost:8080/",
          "height": 286
        },
        "id": "wg_3ZKUAoUgE",
        "outputId": "8c77d7b8-3944-42c8-f1c5-1d17396cd208"
      },
      "execution_count": 15,
      "outputs": [
        {
          "output_type": "stream",
          "name": "stdout",
          "text": [
            "The dot product is 0\n"
          ]
        },
        {
          "output_type": "display_data",
          "data": {
            "text/plain": [
              "<Figure size 432x288 with 1 Axes>"
            ],
            "image/png": "[encoded data removed]"
          },
          "metadata": {
            "needs_background": "light"
          }
        }
      ]
    },
    {
      "cell_type": "code",
      "source": [
        "a = np.array([1, 0])\n",
        "b = np.array([0, 1])\n",
        "Plotvec2(a, b)\n",
        "print(\"The dot product is\", np.dot(a, b))"
      ],
      "metadata": {
        "trusted": true,
        "colab": {
          "base_uri": "https://localhost:8080/",
          "height": 286
        },
        "id": "OOnnvbadoUgF",
        "outputId": "81f58c9c-13fb-4b3b-a8be-32f2766b39ec"
      },
      "execution_count": 16,
      "outputs": [
        {
          "output_type": "stream",
          "name": "stdout",
          "text": [
            "The dot product is 0\n"
          ]
        },
        {
          "output_type": "display_data",
          "data": {
            "text/plain": [
              "<Figure size 432x288 with 1 Axes>"
            ],
            "image/png": "[encoded data removed]"
          },
          "metadata": {
            "needs_background": "light"
          }
        }
      ]
    },
    {
      "cell_type": "code",
      "source": [
        "a = np.array([1, 1])\n",
        "b = np.array([0, 1])\n",
        "Plotvec2(a, b)\n",
        "print(\"The dot product is\", np.dot(a, b))"
      ],
      "metadata": {
        "trusted": true,
        "colab": {
          "base_uri": "https://localhost:8080/",
          "height": 286
        },
        "id": "rk9h_R_PoUgF",
        "outputId": "d796261a-dec9-404e-da25-f43de8bf273c"
      },
      "execution_count": 17,
      "outputs": [
        {
          "output_type": "stream",
          "name": "stdout",
          "text": [
            "The dot product is 1\n"
          ]
        },
        {
          "output_type": "display_data",
          "data": {
            "text/plain": [
              "<Figure size 432x288 with 1 Axes>"
            ],
            "image/png": "[encoded data removed]"
          },
          "metadata": {
            "needs_background": "light"
          }
        }
      ]
    },
    {
      "cell_type": "code",
      "source": [
        "A = np.array([[1,2],[3,4],[5,6],[7,8]])\n",
        "A\n",
        "\n"
      ],
      "metadata": {
        "colab": {
          "base_uri": "https://localhost:8080/"
        },
        "id": "pMFxwg_gs7pF",
        "outputId": "55a8020a-026a-4ad9-9f1f-4d08ff1c524d"
      },
      "execution_count": 18,
      "outputs": [
        {
          "output_type": "execute_result",
          "data": {
            "text/plain": [
              "array([[1, 2],\n",
              "       [3, 4],\n",
              "       [5, 6],\n",
              "       [7, 8]])"
            ]
          },
          "metadata": {},
          "execution_count": 18
        }
      ]
    },
    {
      "cell_type": "code",
      "source": [
        "A = np.array([[1,2],[3,4],[5,6],[7,8]])\n",
        "\n",
        "B = np.array([[1,2,3],[4,5,6],[7,8,9]])\n",
        "\n",
        "np.dot(A,B)"
      ],
      "metadata": {
        "colab": {
          "base_uri": "https://localhost:8080/",
          "height": 236
        },
        "id": "SrxrUsU9tER9",
        "outputId": "b0fb14ec-7706-497d-bb4f-1d7621204e95"
      },
      "execution_count": 19,
      "outputs": [
        {
          "output_type": "error",
          "ename": "ValueError",
          "evalue": "ignored",
          "traceback": [
            "\u001b[0;31m---------------------------------------------------------------------------\u001b[0m",
            "\u001b[0;31mValueError\u001b[0m                                Traceback (most recent call last)",
            "\u001b[0;32m<ipython-input-19-e33d7242a78a>\u001b[0m in \u001b[0;36m<module>\u001b[0;34m\u001b[0m\n\u001b[1;32m      3\u001b[0m \u001b[0mB\u001b[0m \u001b[0;34m=\u001b[0m \u001b[0mnp\u001b[0m\u001b[0;34m.\u001b[0m\u001b[0marray\u001b[0m\u001b[0;34m(\u001b[0m\u001b[0;34m[\u001b[0m\u001b[0;34m[\u001b[0m\u001b[0;36m1\u001b[0m\u001b[0;34m,\u001b[0m\u001b[0;36m2\u001b[0m\u001b[0;34m,\u001b[0m\u001b[0;36m3\u001b[0m\u001b[0;34m]\u001b[0m\u001b[0;34m,\u001b[0m\u001b[0;34m[\u001b[0m\u001b[0;36m4\u001b[0m\u001b[0;34m,\u001b[0m\u001b[0;36m5\u001b[0m\u001b[0;34m,\u001b[0m\u001b[0;36m6\u001b[0m\u001b[0;34m]\u001b[0m\u001b[0;34m,\u001b[0m\u001b[0;34m[\u001b[0m\u001b[0;36m7\u001b[0m\u001b[0;34m,\u001b[0m\u001b[0;36m8\u001b[0m\u001b[0;34m,\u001b[0m\u001b[0;36m9\u001b[0m\u001b[0;34m]\u001b[0m\u001b[0;34m]\u001b[0m\u001b[0;34m)\u001b[0m\u001b[0;34m\u001b[0m\u001b[0;34m\u001b[0m\u001b[0m\n\u001b[1;32m      4\u001b[0m \u001b[0;34m\u001b[0m\u001b[0m\n\u001b[0;32m----> 5\u001b[0;31m \u001b[0mnp\u001b[0m\u001b[0;34m.\u001b[0m\u001b[0mdot\u001b[0m\u001b[0;34m(\u001b[0m\u001b[0mA\u001b[0m\u001b[0;34m,\u001b[0m\u001b[0mB\u001b[0m\u001b[0;34m)\u001b[0m\u001b[0;34m\u001b[0m\u001b[0;34m\u001b[0m\u001b[0m\n\u001b[0m",
            "\u001b[0;32m<__array_function__ internals>\u001b[0m in \u001b[0;36mdot\u001b[0;34m(*args, **kwargs)\u001b[0m\n",
            "\u001b[0;31mValueError\u001b[0m: shapes (4,2) and (3,3) not aligned: 2 (dim 1) != 3 (dim 0)"
          ]
        }
      ]
    },
    {
      "cell_type": "code",
      "source": [
        "a=np.array([0,1,0,1,0])\n",
        "\n",
        "b=np.array([1,0,1,0,1])\n",
        "\n",
        "a*b"
      ],
      "metadata": {
        "colab": {
          "base_uri": "https://localhost:8080/"
        },
        "id": "pF693iyxtrsL",
        "outputId": "9897ac3b-0781-4663-8888-2a55562a09fb"
      },
      "execution_count": 20,
      "outputs": [
        {
          "output_type": "execute_result",
          "data": {
            "text/plain": [
              "array([0, 0, 0, 0, 0])"
            ]
          },
          "metadata": {},
          "execution_count": 20
        }
      ]
    },
    {
      "cell_type": "code",
      "source": [
        "a=np.array([0,1])\n",
        "\n",
        "b=np.array([1,0])\n",
        "\n",
        "np.dot(a,b)"
      ],
      "metadata": {
        "colab": {
          "base_uri": "https://localhost:8080/"
        },
        "id": "TQlTtXVztxFu",
        "outputId": "e9ddd9ff-f3ff-4fb7-a867-d9811139f122"
      },
      "execution_count": 21,
      "outputs": [
        {
          "output_type": "execute_result",
          "data": {
            "text/plain": [
              "0"
            ]
          },
          "metadata": {},
          "execution_count": 21
        }
      ]
    },
    {
      "cell_type": "code",
      "source": [
        "a=np.array([1,1,1,1,1])\n",
        "\n",
        "a+10"
      ],
      "metadata": {
        "colab": {
          "base_uri": "https://localhost:8080/"
        },
        "id": "8OEkeqI6t05j",
        "outputId": "e3949d86-4772-4f4e-d10e-26292e1d0855"
      },
      "execution_count": 22,
      "outputs": [
        {
          "output_type": "execute_result",
          "data": {
            "text/plain": [
              "array([11, 11, 11, 11, 11])"
            ]
          },
          "metadata": {},
          "execution_count": 22
        }
      ]
    },
    {
      "cell_type": "code",
      "source": [
        "3+2*2"
      ],
      "metadata": {
        "colab": {
          "base_uri": "https://localhost:8080/"
        },
        "id": "IkIwgXgkuahG",
        "outputId": "7658bcfc-537f-46a6-9b64-bb9ea4ea7469"
      },
      "execution_count": 24,
      "outputs": [
        {
          "output_type": "execute_result",
          "data": {
            "text/plain": [
              "7"
            ]
          },
          "metadata": {},
          "execution_count": 24
        }
      ]
    },
    {
      "cell_type": "code",
      "source": [
        "type(True)"
      ],
      "metadata": {
        "colab": {
          "base_uri": "https://localhost:8080/"
        },
        "id": "EiWm-RT-ujW3",
        "outputId": "114bac80-129d-4abd-e1ab-4fcc09c36f88"
      },
      "execution_count": 26,
      "outputs": [
        {
          "output_type": "execute_result",
          "data": {
            "text/plain": [
              "bool"
            ]
          },
          "metadata": {},
          "execution_count": 26
        }
      ]
    },
    {
      "cell_type": "code",
      "source": [
        "int(3.2)"
      ],
      "metadata": {
        "colab": {
          "base_uri": "https://localhost:8080/"
        },
        "id": "qSI2SiawurOB",
        "outputId": "d40516c4-45ef-473f-8802-dd3eafa3262d"
      },
      "execution_count": 27,
      "outputs": [
        {
          "output_type": "execute_result",
          "data": {
            "text/plain": [
              "3"
            ]
          },
          "metadata": {},
          "execution_count": 27
        }
      ]
    },
    {
      "cell_type": "code",
      "source": [
        "A='1234567'\n",
        "A[1::2]"
      ],
      "metadata": {
        "colab": {
          "base_uri": "https://localhost:8080/",
          "height": 35
        },
        "id": "L4VO4EO9uvjv",
        "outputId": "1900076b-9bdd-4e0e-f40b-642a41f09146"
      },
      "execution_count": 28,
      "outputs": [
        {
          "output_type": "execute_result",
          "data": {
            "text/plain": [
              "'246'"
            ],
            "application/vnd.google.colaboratory.intrinsic+json": {
              "type": "string"
            }
          },
          "metadata": {},
          "execution_count": 28
        }
      ]
    },
    {
      "cell_type": "code",
      "source": [
        "Name=\"Michael Jackson\"\n",
        "Name.find('el')"
      ],
      "metadata": {
        "colab": {
          "base_uri": "https://localhost:8080/"
        },
        "id": "lwbEi6Xwu3HK",
        "outputId": "f9ade48e-50d9-4ff5-e119-b7d8f7b12ad5"
      },
      "execution_count": 29,
      "outputs": [
        {
          "output_type": "execute_result",
          "data": {
            "text/plain": [
              "5"
            ]
          },
          "metadata": {},
          "execution_count": 29
        }
      ]
    },
    {
      "cell_type": "code",
      "source": [
        "A='1'\n",
        "B='2'\n",
        "A+B"
      ],
      "metadata": {
        "colab": {
          "base_uri": "https://localhost:8080/",
          "height": 35
        },
        "id": "5iXBpDejvBKn",
        "outputId": "bc39644b-6ff9-4a20-91fd-991cc9197275"
      },
      "execution_count": 30,
      "outputs": [
        {
          "output_type": "execute_result",
          "data": {
            "text/plain": [
              "'12'"
            ],
            "application/vnd.google.colaboratory.intrinsic+json": {
              "type": "string"
            }
          },
          "metadata": {},
          "execution_count": 30
        }
      ]
    },
    {
      "cell_type": "code",
      "source": [
        "tuple1=(\"A\",\"B\",\"C\" )\n",
        "tuple1[-1]"
      ],
      "metadata": {
        "colab": {
          "base_uri": "https://localhost:8080/",
          "height": 35
        },
        "id": "fHDZdKe9vO9F",
        "outputId": "a63f396b-8b43-4859-8562-832583a265d2"
      },
      "execution_count": 31,
      "outputs": [
        {
          "output_type": "execute_result",
          "data": {
            "text/plain": [
              "'C'"
            ],
            "application/vnd.google.colaboratory.intrinsic+json": {
              "type": "string"
            }
          },
          "metadata": {},
          "execution_count": 31
        }
      ]
    },
    {
      "cell_type": "code",
      "source": [
        "A=((11,12),[21,22])\n",
        "A[1]"
      ],
      "metadata": {
        "colab": {
          "base_uri": "https://localhost:8080/"
        },
        "id": "zkIYbOE8vWFM",
        "outputId": "dcc918d2-0077-44d7-bf39-c91d8c9f552d"
      },
      "execution_count": 32,
      "outputs": [
        {
          "output_type": "execute_result",
          "data": {
            "text/plain": [
              "[21, 22]"
            ]
          },
          "metadata": {},
          "execution_count": 32
        }
      ]
    },
    {
      "cell_type": "code",
      "source": [
        " A=((11,12),[21,22])\n",
        " A[0][1]"
      ],
      "metadata": {
        "colab": {
          "base_uri": "https://localhost:8080/"
        },
        "id": "OBBdL9uGvgrA",
        "outputId": "dd2b1f2e-a8da-45b4-e9fa-3a96cb77aaaf"
      },
      "execution_count": 33,
      "outputs": [
        {
          "output_type": "execute_result",
          "data": {
            "text/plain": [
              "12"
            ]
          },
          "metadata": {},
          "execution_count": 33
        }
      ]
    },
    {
      "cell_type": "code",
      "source": [
        "'1,2,3,4'.split(',')"
      ],
      "metadata": {
        "colab": {
          "base_uri": "https://localhost:8080/"
        },
        "id": "WvspAI4Bvr6z",
        "outputId": "85fd32b7-fa75-4fbe-ae7a-5dffa8db631e"
      },
      "execution_count": 34,
      "outputs": [
        {
          "output_type": "execute_result",
          "data": {
            "text/plain": [
              "['1', '2', '3', '4']"
            ]
          },
          "metadata": {},
          "execution_count": 34
        }
      ]
    },
    {
      "cell_type": "code",
      "source": [
        "V={'A','B'}\n",
        "V.add('C')\n",
        "V"
      ],
      "metadata": {
        "colab": {
          "base_uri": "https://localhost:8080/"
        },
        "id": "9_QIHvbWwGj5",
        "outputId": "5db1e2b4-4ab7-4404-909a-f6e28c726ec6"
      },
      "execution_count": 36,
      "outputs": [
        {
          "output_type": "execute_result",
          "data": {
            "text/plain": [
              "{'A', 'B', 'C'}"
            ]
          },
          "metadata": {},
          "execution_count": 36
        }
      ]
    },
    {
      "cell_type": "code",
      "source": [
        "x=\"Go\"\n",
        "\n",
        "if(x==\"Go\"):\n",
        "  print('Stop')\n",
        "else:\n",
        "  print('Go ')\n",
        "\n",
        "print('Mike')"
      ],
      "metadata": {
        "colab": {
          "base_uri": "https://localhost:8080/"
        },
        "id": "K1dw681Swyu1",
        "outputId": "f9bc5fe0-af5d-4e3c-fa51-7469b440d68f"
      },
      "execution_count": 40,
      "outputs": [
        {
          "output_type": "stream",
          "name": "stdout",
          "text": [
            "Stop\n",
            "Mike\n"
          ]
        }
      ]
    },
    {
      "cell_type": "code",
      "source": [
        "for n in range(3):\n",
        "  print(n)"
      ],
      "metadata": {
        "colab": {
          "base_uri": "https://localhost:8080/"
        },
        "id": "VMsrLpwgxNVk",
        "outputId": "e09b08e6-1c40-4c63-9e72-782f4f7d855a"
      },
      "execution_count": 42,
      "outputs": [
        {
          "output_type": "stream",
          "name": "stdout",
          "text": [
            "0\n",
            "1\n",
            "2\n"
          ]
        }
      ]
    },
    {
      "cell_type": "code",
      "source": [
        "for n in range(3):\n",
        "  \n",
        "  print(n+1)"
      ],
      "metadata": {
        "colab": {
          "base_uri": "https://localhost:8080/"
        },
        "id": "rlR44kb-xxjX",
        "outputId": "f56a35d8-6593-4c3f-fd11-5ea6bb69c2fc"
      },
      "execution_count": 43,
      "outputs": [
        {
          "output_type": "stream",
          "name": "stdout",
          "text": [
            "1\n",
            "2\n",
            "3\n"
          ]
        }
      ]
    },
    {
      "cell_type": "code",
      "source": [
        "A=['1','2','3']\n",
        "\n",
        "for a in A:\n",
        "  print(2*a)"
      ],
      "metadata": {
        "colab": {
          "base_uri": "https://localhost:8080/"
        },
        "id": "UBj8Klcdx4rh",
        "outputId": "9eba3111-7f80-4caf-b0c1-1f76a90758ac"
      },
      "execution_count": 44,
      "outputs": [
        {
          "output_type": "stream",
          "name": "stdout",
          "text": [
            "11\n",
            "22\n",
            "33\n"
          ]
        }
      ]
    },
    {
      "cell_type": "code",
      "source": [
        "def Add(x,y):\n",
        "  z=y+x\n",
        "  return(y)"
      ],
      "metadata": {
        "id": "_8csLzsUyNdq"
      },
      "execution_count": 45,
      "outputs": []
    },
    {
      "cell_type": "code",
      "source": [
        "Add('1','1')"
      ],
      "metadata": {
        "colab": {
          "base_uri": "https://localhost:8080/",
          "height": 35
        },
        "id": "7mMBIZQSyY7V",
        "outputId": "76d4f847-d148-45f0-9014-54428cdd1a87"
      },
      "execution_count": 46,
      "outputs": [
        {
          "output_type": "execute_result",
          "data": {
            "text/plain": [
              "'1'"
            ],
            "application/vnd.google.colaboratory.intrinsic+json": {
              "type": "string"
            }
          },
          "metadata": {},
          "execution_count": 46
        }
      ]
    },
    {
      "cell_type": "code",
      "source": [
        "class Points(object):\n",
        "  def __init__(self,x,y):\n",
        "    self.x=x\n",
        "\n",
        "    self.y=y\n",
        "\n",
        "def print_point(self):\n",
        "  print('x=',self.x,'y=',self.y)\n",
        "\n",
        "\n"
      ],
      "metadata": {
        "id": "fKUkcC_pym6E"
      },
      "execution_count": 47,
      "outputs": []
    },
    {
      "cell_type": "code",
      "source": [
        "class Points(object):\n",
        "\n",
        "\n",
        "  def __init__(self,x,y):\n",
        "    self.x=x\n",
        "\n",
        "    self.y=y\n",
        "\n",
        "  def print_point(self):\n",
        "    print('x=',self.x,' y=',self.y)\n",
        "\n",
        "p1=Points(1,2)\n",
        "\n",
        "p1.print_point()"
      ],
      "metadata": {
        "colab": {
          "base_uri": "https://localhost:8080/"
        },
        "id": "NJ7FeKPxzwMx",
        "outputId": "f8c376fc-8450-45de-a36c-4c6389db320b"
      },
      "execution_count": 50,
      "outputs": [
        {
          "output_type": "stream",
          "name": "stdout",
          "text": [
            "x= 1  y= 2\n"
          ]
        }
      ]
    },
    {
      "cell_type": "code",
      "source": [
        "class Points(object):\n",
        "\n",
        "\n",
        "  def __init__(self,x,y):\n",
        "\n",
        "\n",
        "    self.x=x\n",
        "\n",
        "    self.y=y\n",
        "\n",
        "  def print_point(self):\n",
        "\n",
        "    print('x=',self.x,' y=',self.y)\n",
        "\n",
        "p2=Points(1,2)\n",
        "\n",
        "p2.x=2\n",
        "\n",
        "p2.print_point()"
      ],
      "metadata": {
        "colab": {
          "base_uri": "https://localhost:8080/"
        },
        "id": "GvdEGPSI0TUd",
        "outputId": "3ac77055-33bb-4237-8a3e-1095bbeb7528"
      },
      "execution_count": 51,
      "outputs": [
        {
          "output_type": "stream",
          "name": "stdout",
          "text": [
            "x= 2  y= 2\n"
          ]
        }
      ]
    }
  ]
}