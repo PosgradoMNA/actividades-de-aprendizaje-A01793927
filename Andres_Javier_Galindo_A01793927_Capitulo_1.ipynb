{
  "metadata": {
    "kernelspec": {
      "name": "python",
      "display_name": "Pyolite",
      "language": "python"
    },
    "language_info": {
      "codemirror_mode": {
        "name": "python",
        "version": 3
      },
      "file_extension": ".py",
      "mimetype": "text/x-python",
      "name": "python",
      "nbconvert_exporter": "python",
      "pygments_lexer": "ipython3",
      "version": "3.8"
    },
    "colab": {
      "provenance": [],
      "collapsed_sections": [],
      "include_colab_link": true
    }
  },
  "nbformat_minor": 0,
  "nbformat": 4,
  "cells": [
    {
      "cell_type": "markdown",
      "metadata": {
        "id": "view-in-github",
        "colab_type": "text"
      },
      "source": [
        "<a href=\"https://colab.research.google.com/github/PosgradoMNA/actividades-de-aprendizaje-A01793927/blob/main/Andres_Javier_Galindo_A01793927_Capitulo_1.ipynb\" target=\"_parent\"><img src=\"https://colab.research.google.com/assets/colab-badge.svg\" alt=\"Open In Colab\"/></a>"
      ]
    },
    {
      "cell_type": "markdown",
      "source": [
        "Autor : Andres Javier galindo Vargas\n",
        "Codigo : A01793927\n",
        "\n",
        "# IBM: PY0101EN\n",
        "Python para ciencia de datos\n",
        "\n",
        "## Temas  del capitulo\n",
        "\n",
        "* Tu primer programa\n",
        "* Tipos\n",
        "* Expresiones y Variables\n",
        "* Laboratorio: escriba su primer código de Python\n",
        "* Operaciones con cadenas\n",
        "* Prácticas\n",
        "\n"
      ],
      "metadata": {
        "id": "Vqy6PlQG-2aW"
      }
    },
    {
      "cell_type": "markdown",
      "source": [
        "<h2 id=\"hello\"> Primer programa \"Hello\" con Python</h2>\n"
      ],
      "metadata": {
        "id": "UmB4cEU--2ag"
      }
    },
    {
      "cell_type": "code",
      "source": [
        "# Primer programa output\n",
        "\n",
        "print('Hello, Python!')"
      ],
      "metadata": {
        "colab": {
          "base_uri": "https://localhost:8080/"
        },
        "id": "9OvDTnd6-2aj",
        "outputId": "c29930f2-c04f-4605-b71d-a29159c90190"
      },
      "execution_count": 1,
      "outputs": [
        {
          "output_type": "stream",
          "name": "stdout",
          "text": [
            "Hello, Python!\n"
          ]
        }
      ]
    },
    {
      "cell_type": "markdown",
      "source": [
        "<h3 id=\"version\"> Validar la version de python que usa el cluster</h3>\n"
      ],
      "metadata": {
        "id": "YmmYf6I6-2am"
      }
    },
    {
      "cell_type": "code",
      "source": [
        "# Python Version\n",
        "\n",
        "import sys\n",
        "print(sys.version)"
      ],
      "metadata": {
        "colab": {
          "base_uri": "https://localhost:8080/"
        },
        "id": "6c9DMhX9-2an",
        "outputId": "9a6f2cba-ca5e-4f74-b959-96b801caaed4"
      },
      "execution_count": 2,
      "outputs": [
        {
          "output_type": "stream",
          "name": "stdout",
          "text": [
            "3.7.14 (default, Sep  8 2022, 00:06:44) \n",
            "[GCC 7.5.0]\n"
          ]
        }
      ]
    },
    {
      "cell_type": "markdown",
      "source": [
        "<h3 id=\"comments\">Escribir Comentarios Python</h3>\n"
      ],
      "metadata": {
        "id": "36MznZfW-2ao"
      }
    },
    {
      "cell_type": "code",
      "source": [
        "# Escribir Comentarios\n",
        "\n",
        "print('Hello, Python!') # esta linea imprime un string \n",
        "# print('Hi')"
      ],
      "metadata": {
        "colab": {
          "base_uri": "https://localhost:8080/"
        },
        "id": "qlOZ7UIA-2ao",
        "outputId": "7aec70ed-89f1-4552-e467-55a2e0928d4b"
      },
      "execution_count": 3,
      "outputs": [
        {
          "output_type": "stream",
          "name": "stdout",
          "text": [
            "Hello, Python!\n"
          ]
        }
      ]
    },
    {
      "cell_type": "markdown",
      "source": [
        "<h3 id=\"errors\">Errores  en Python</h3>\n"
      ],
      "metadata": {
        "id": "vnI9xjtF-2ap"
      }
    },
    {
      "cell_type": "code",
      "source": [
        "# imprime error , porque la sintaxis frint no es la correcta\n",
        "\n",
        "frint(\"Hello, Python!\")"
      ],
      "metadata": {
        "colab": {
          "base_uri": "https://localhost:8080/",
          "height": 201
        },
        "id": "qLveoBxz-2aq",
        "outputId": "ebcb6934-9937-4560-b83c-c183c070fdb4"
      },
      "execution_count": 7,
      "outputs": [
        {
          "output_type": "error",
          "ename": "NameError",
          "evalue": "ignored",
          "traceback": [
            "\u001b[0;31m---------------------------------------------------------------------------\u001b[0m",
            "\u001b[0;31mNameError\u001b[0m                                 Traceback (most recent call last)",
            "\u001b[0;32m<ipython-input-7-c7d363515948>\u001b[0m in \u001b[0;36m<module>\u001b[0;34m\u001b[0m\n\u001b[1;32m      1\u001b[0m \u001b[0;31m# imprime error , porque la sintaxis frint no es la correcta\u001b[0m\u001b[0;34m\u001b[0m\u001b[0;34m\u001b[0m\u001b[0;34m\u001b[0m\u001b[0m\n\u001b[1;32m      2\u001b[0m \u001b[0;34m\u001b[0m\u001b[0m\n\u001b[0;32m----> 3\u001b[0;31m \u001b[0mfrint\u001b[0m\u001b[0;34m(\u001b[0m\u001b[0;34m\"Hello, Python!\"\u001b[0m\u001b[0;34m)\u001b[0m\u001b[0;34m\u001b[0m\u001b[0;34m\u001b[0m\u001b[0m\n\u001b[0m",
            "\u001b[0;31mNameError\u001b[0m: name 'frint' is not defined"
          ]
        }
      ]
    },
    {
      "cell_type": "code",
      "source": [
        "# imprime error , porque le falta terminar el parametro de forma corrrecta\n",
        "print(\"Hello, Python!)"
      ],
      "metadata": {
        "colab": {
          "base_uri": "https://localhost:8080/",
          "height": 131
        },
        "id": "4_D-JL---2ar",
        "outputId": "3b6504a9-b024-4429-aebe-eddb3d802a93"
      },
      "execution_count": 6,
      "outputs": [
        {
          "output_type": "error",
          "ename": "SyntaxError",
          "evalue": "ignored",
          "traceback": [
            "\u001b[0;36m  File \u001b[0;32m\"<ipython-input-6-63a21a726720>\"\u001b[0;36m, line \u001b[0;32m3\u001b[0m\n\u001b[0;31m    print(\"Hello, Python!)\u001b[0m\n\u001b[0m                          ^\u001b[0m\n\u001b[0;31mSyntaxError\u001b[0m\u001b[0;31m:\u001b[0m EOL while scanning string literal\n"
          ]
        }
      ]
    },
    {
      "cell_type": "markdown",
      "source": [
        "<h2 id=\"types_objects\" align=\"center\">Tipos de objetos en Pyhton</h2>\n"
      ],
      "metadata": {
        "id": "lr1vWNaW-2au"
      }
    },
    {
      "cell_type": "markdown",
      "source": [
        "<p>Ejemplos.</p>\n"
      ],
      "metadata": {
        "id": "KuGKLbLN-2av"
      }
    },
    {
      "cell_type": "code",
      "source": [
        "# tipo de dato entero\n",
        "\n",
        "11"
      ],
      "metadata": {
        "colab": {
          "base_uri": "https://localhost:8080/"
        },
        "id": "5nOZMrha-2av",
        "outputId": "7859c31d-33e6-45b2-ccaf-b5d42da248f8"
      },
      "execution_count": 8,
      "outputs": [
        {
          "output_type": "execute_result",
          "data": {
            "text/plain": [
              "11"
            ]
          },
          "metadata": {},
          "execution_count": 8
        }
      ]
    },
    {
      "cell_type": "code",
      "source": [
        "# tipo de datos flotante\n",
        "\n",
        "2.14"
      ],
      "metadata": {
        "colab": {
          "base_uri": "https://localhost:8080/"
        },
        "id": "mZZFm_1T-2av",
        "outputId": "13c8e956-81f1-4148-c33b-0c37992dd947"
      },
      "execution_count": 9,
      "outputs": [
        {
          "output_type": "execute_result",
          "data": {
            "text/plain": [
              "2.14"
            ]
          },
          "metadata": {},
          "execution_count": 9
        }
      ]
    },
    {
      "cell_type": "code",
      "source": [
        "# tipo de dato string\n",
        "\n",
        "\"Hello, Python 101!\""
      ],
      "metadata": {
        "colab": {
          "base_uri": "https://localhost:8080/",
          "height": 35
        },
        "id": "FSscvNej-2aw",
        "outputId": "ad820f8f-e9c9-40a3-c741-a42477068e1a"
      },
      "execution_count": 10,
      "outputs": [
        {
          "output_type": "execute_result",
          "data": {
            "text/plain": [
              "'Hello, Python 101!'"
            ],
            "application/vnd.google.colaboratory.intrinsic+json": {
              "type": "string"
            }
          },
          "metadata": {},
          "execution_count": 10
        }
      ]
    },
    {
      "cell_type": "markdown",
      "source": [
        "<p>Validacion del tipo de datos.</p>\n"
      ],
      "metadata": {
        "id": "gkF7Qftz-2aw"
      }
    },
    {
      "cell_type": "code",
      "source": [
        "# tipo de dato 12\n",
        "\n",
        "type(12)"
      ],
      "metadata": {
        "colab": {
          "base_uri": "https://localhost:8080/"
        },
        "id": "YvaDskTd-2aw",
        "outputId": "80fe2ece-8758-4d90-dbd4-9062030ee42b"
      },
      "execution_count": 11,
      "outputs": [
        {
          "output_type": "execute_result",
          "data": {
            "text/plain": [
              "int"
            ]
          },
          "metadata": {},
          "execution_count": 11
        }
      ]
    },
    {
      "cell_type": "code",
      "source": [
        "# tipo de dato 2.14\n",
        "\n",
        "type(2.14)"
      ],
      "metadata": {
        "colab": {
          "base_uri": "https://localhost:8080/"
        },
        "id": "55OBlvBF-2aw",
        "outputId": "d0601b4c-f6fb-49e7-e6ce-ada54e6674fc"
      },
      "execution_count": 12,
      "outputs": [
        {
          "output_type": "execute_result",
          "data": {
            "text/plain": [
              "float"
            ]
          },
          "metadata": {},
          "execution_count": 12
        }
      ]
    },
    {
      "cell_type": "code",
      "source": [
        "# tipo de dato \"Hello, Python 101!\"\n",
        "\n",
        "type(\"Hello, Python 101!\")"
      ],
      "metadata": {
        "colab": {
          "base_uri": "https://localhost:8080/"
        },
        "id": "xVqN33Ho-2aw",
        "outputId": "8e5a61ff-abef-414f-e1ef-c4fe89b5ef61"
      },
      "execution_count": 13,
      "outputs": [
        {
          "output_type": "execute_result",
          "data": {
            "text/plain": [
              "str"
            ]
          },
          "metadata": {},
          "execution_count": 13
        }
      ]
    },
    {
      "cell_type": "markdown",
      "source": [
        "<h3 id=\"int\">Tipos de datos enteros</h3>\n"
      ],
      "metadata": {
        "id": "5qn3juiD-2ax"
      }
    },
    {
      "cell_type": "markdown",
      "source": [
        "<p>Los tipos de datos pueden ser positivos o negativos :</p>\n"
      ],
      "metadata": {
        "id": "bvNTqKRg-2ax"
      }
    },
    {
      "cell_type": "code",
      "source": [
        "# imprimir el tipo de dato -1\n",
        "\n",
        "type(-1)"
      ],
      "metadata": {
        "colab": {
          "base_uri": "https://localhost:8080/"
        },
        "id": "5lQQO03t-2ay",
        "outputId": "18b0036a-258b-4612-d7a5-db8ada9ea48d"
      },
      "execution_count": 14,
      "outputs": [
        {
          "output_type": "execute_result",
          "data": {
            "text/plain": [
              "int"
            ]
          },
          "metadata": {},
          "execution_count": 14
        }
      ]
    },
    {
      "cell_type": "code",
      "source": [
        "# imprimir el tipo de dato 4\n",
        "\n",
        "type(4)"
      ],
      "metadata": {
        "colab": {
          "base_uri": "https://localhost:8080/"
        },
        "id": "QaAV1bFQ-2ay",
        "outputId": "90b19a43-af5a-4ae1-c162-cef200ee9447"
      },
      "execution_count": 15,
      "outputs": [
        {
          "output_type": "execute_result",
          "data": {
            "text/plain": [
              "int"
            ]
          },
          "metadata": {},
          "execution_count": 15
        }
      ]
    },
    {
      "cell_type": "code",
      "source": [
        "# imprimir el tipo de dato 0\n",
        "\n",
        "type(0)"
      ],
      "metadata": {
        "colab": {
          "base_uri": "https://localhost:8080/"
        },
        "id": "q2TKRkhq-2ay",
        "outputId": "477b37c5-cbe8-47d9-a471-f2b5d57532f0"
      },
      "execution_count": 16,
      "outputs": [
        {
          "output_type": "execute_result",
          "data": {
            "text/plain": [
              "int"
            ]
          },
          "metadata": {},
          "execution_count": 16
        }
      ]
    },
    {
      "cell_type": "markdown",
      "source": [
        "<h3 id=\"float\">Flotantes</h3> \n"
      ],
      "metadata": {
        "id": "PLctqJTy-2az"
      }
    },
    {
      "cell_type": "code",
      "source": [
        "# imprimir el tipo de dato of 1.0\n",
        "\n",
        "type(1.0) # Observe que 1 es un int y 1.0 es un float"
      ],
      "metadata": {
        "colab": {
          "base_uri": "https://localhost:8080/"
        },
        "id": "aqk4S8jv-2az",
        "outputId": "4975c7b2-54ae-41f2-ed0f-37eea58793ac"
      },
      "execution_count": 17,
      "outputs": [
        {
          "output_type": "execute_result",
          "data": {
            "text/plain": [
              "float"
            ]
          },
          "metadata": {},
          "execution_count": 17
        }
      ]
    },
    {
      "cell_type": "code",
      "source": [
        "# Print the type of 0.5\n",
        "\n",
        "type(0.5)"
      ],
      "metadata": {
        "colab": {
          "base_uri": "https://localhost:8080/"
        },
        "id": "xso_bWLg-2az",
        "outputId": "e2374fc4-849b-4c35-c503-fd3739e30894"
      },
      "execution_count": 18,
      "outputs": [
        {
          "output_type": "execute_result",
          "data": {
            "text/plain": [
              "float"
            ]
          },
          "metadata": {},
          "execution_count": 18
        }
      ]
    },
    {
      "cell_type": "code",
      "source": [
        "# Print the type of 0.56\n",
        "\n",
        "type(0.56)"
      ],
      "metadata": {
        "colab": {
          "base_uri": "https://localhost:8080/"
        },
        "id": "cPvF-57F-2az",
        "outputId": "6675188d-72eb-443d-8e5d-dcc234813d51"
      },
      "execution_count": 19,
      "outputs": [
        {
          "output_type": "execute_result",
          "data": {
            "text/plain": [
              "float"
            ]
          },
          "metadata": {},
          "execution_count": 19
        }
      ]
    },
    {
      "cell_type": "code",
      "source": [
        "# System settings about float type\n",
        "\n",
        "sys.float_info"
      ],
      "metadata": {
        "colab": {
          "base_uri": "https://localhost:8080/"
        },
        "id": "pXqjuj5C-2a0",
        "outputId": "af05fce1-0b75-4ed6-b23f-69534239cad3"
      },
      "execution_count": 20,
      "outputs": [
        {
          "output_type": "execute_result",
          "data": {
            "text/plain": [
              "sys.float_info(max=1.7976931348623157e+308, max_exp=1024, max_10_exp=308, min=2.2250738585072014e-308, min_exp=-1021, min_10_exp=-307, dig=15, mant_dig=53, epsilon=2.220446049250313e-16, radix=2, rounds=1)"
            ]
          },
          "metadata": {},
          "execution_count": 20
        }
      ]
    },
    {
      "cell_type": "markdown",
      "source": [
        "<h3 id=\"convert\">converciones de tipos</h3>\n"
      ],
      "metadata": {
        "id": "7rXO3Vga-2a0"
      }
    },
    {
      "cell_type": "code",
      "source": [
        "# Convert 2 to a float\n",
        "\n",
        "float(2)"
      ],
      "metadata": {
        "colab": {
          "base_uri": "https://localhost:8080/"
        },
        "id": "HlpJQ9ad-2a0",
        "outputId": "b156381e-f563-43f2-f3f2-91e7115bb7e5"
      },
      "execution_count": 22,
      "outputs": [
        {
          "output_type": "execute_result",
          "data": {
            "text/plain": [
              "2.0"
            ]
          },
          "metadata": {},
          "execution_count": 22
        }
      ]
    },
    {
      "cell_type": "code",
      "source": [
        "# Convert integer 2 to a float and check its type\n",
        "\n",
        "type(float(2))"
      ],
      "metadata": {
        "colab": {
          "base_uri": "https://localhost:8080/"
        },
        "id": "nkEQGjgn-2a1",
        "outputId": "d5e66c11-eae2-40e8-da63-d45e04ad354e"
      },
      "execution_count": 23,
      "outputs": [
        {
          "output_type": "execute_result",
          "data": {
            "text/plain": [
              "float"
            ]
          },
          "metadata": {},
          "execution_count": 23
        }
      ]
    },
    {
      "cell_type": "code",
      "source": [
        "# Casting de entero\n",
        "\n",
        "int(1.1)"
      ],
      "metadata": {
        "colab": {
          "base_uri": "https://localhost:8080/"
        },
        "id": "dpEcF8bI-2a1",
        "outputId": "94414dcd-7359-4a12-db5a-5e40cc4c2866"
      },
      "execution_count": 24,
      "outputs": [
        {
          "output_type": "execute_result",
          "data": {
            "text/plain": [
              "1"
            ]
          },
          "metadata": {},
          "execution_count": 24
        }
      ]
    },
    {
      "cell_type": "markdown",
      "source": [
        "<h4>Casteo entre los diferentes tipos de datos </h4>\n"
      ],
      "metadata": {
        "id": "1u3Vg1_Q-2a1"
      }
    },
    {
      "cell_type": "code",
      "source": [
        "# Convertir una cadena en un entero\n",
        "\n",
        "int('1')"
      ],
      "metadata": {
        "colab": {
          "base_uri": "https://localhost:8080/"
        },
        "id": "0H8qZD0n-2a2",
        "outputId": "e06b9fdc-f878-455d-d123-b5e0047353aa"
      },
      "execution_count": 25,
      "outputs": [
        {
          "output_type": "execute_result",
          "data": {
            "text/plain": [
              "1"
            ]
          },
          "metadata": {},
          "execution_count": 25
        }
      ]
    },
    {
      "cell_type": "code",
      "source": [
        "# Convertir una cadena en un entero con error\n",
        "\n",
        "int('1 or 2 people')"
      ],
      "metadata": {
        "colab": {
          "base_uri": "https://localhost:8080/",
          "height": 201
        },
        "id": "OyJ2VzIL-2a2",
        "outputId": "ff3622a7-10e1-4e14-baa1-ab0deab889a3"
      },
      "execution_count": 26,
      "outputs": [
        {
          "output_type": "error",
          "ename": "ValueError",
          "evalue": "ignored",
          "traceback": [
            "\u001b[0;31m---------------------------------------------------------------------------\u001b[0m",
            "\u001b[0;31mValueError\u001b[0m                                Traceback (most recent call last)",
            "\u001b[0;32m<ipython-input-26-2122bbec76f9>\u001b[0m in \u001b[0;36m<module>\u001b[0;34m\u001b[0m\n\u001b[1;32m      1\u001b[0m \u001b[0;31m# Convertir una cadena en un entero con error\u001b[0m\u001b[0;34m\u001b[0m\u001b[0;34m\u001b[0m\u001b[0;34m\u001b[0m\u001b[0m\n\u001b[1;32m      2\u001b[0m \u001b[0;34m\u001b[0m\u001b[0m\n\u001b[0;32m----> 3\u001b[0;31m \u001b[0mint\u001b[0m\u001b[0;34m(\u001b[0m\u001b[0;34m'1 or 2 people'\u001b[0m\u001b[0;34m)\u001b[0m\u001b[0;34m\u001b[0m\u001b[0;34m\u001b[0m\u001b[0m\n\u001b[0m",
            "\u001b[0;31mValueError\u001b[0m: invalid literal for int() with base 10: '1 or 2 people'"
          ]
        }
      ]
    },
    {
      "cell_type": "code",
      "source": [
        "# Convierta la cadena \"1.2\" en un flotante\n",
        "\n",
        "float('1.2')"
      ],
      "metadata": {
        "colab": {
          "base_uri": "https://localhost:8080/"
        },
        "id": "s_REiVes-2a2",
        "outputId": "999827ac-7b1e-4d1b-cf43-71d43e1846e4"
      },
      "execution_count": 27,
      "outputs": [
        {
          "output_type": "execute_result",
          "data": {
            "text/plain": [
              "1.2"
            ]
          },
          "metadata": {},
          "execution_count": 27
        }
      ]
    },
    {
      "cell_type": "markdown",
      "source": [
        "<h4>convertir de string a entero</h4>\n"
      ],
      "metadata": {
        "id": "lgZJSbaj-2a3"
      }
    },
    {
      "cell_type": "code",
      "source": [
        "# convierta entero a string\n",
        "\n",
        "str(1)\n"
      ],
      "metadata": {
        "colab": {
          "base_uri": "https://localhost:8080/",
          "height": 35
        },
        "id": "mXcSM_4e-2a3",
        "outputId": "50795b30-002f-43df-8f53-af0056cc805c"
      },
      "execution_count": 28,
      "outputs": [
        {
          "output_type": "execute_result",
          "data": {
            "text/plain": [
              "'1'"
            ],
            "application/vnd.google.colaboratory.intrinsic+json": {
              "type": "string"
            }
          },
          "metadata": {},
          "execution_count": 28
        }
      ]
    },
    {
      "cell_type": "code",
      "source": [
        "# Convierta flotante a strig\n",
        "\n",
        "str(1.2)"
      ],
      "metadata": {
        "colab": {
          "base_uri": "https://localhost:8080/",
          "height": 35
        },
        "id": "3Amgka1v-2a3",
        "outputId": "b1ab00d5-7792-47e4-9191-00404b6f4020"
      },
      "execution_count": 29,
      "outputs": [
        {
          "output_type": "execute_result",
          "data": {
            "text/plain": [
              "'1.2'"
            ],
            "application/vnd.google.colaboratory.intrinsic+json": {
              "type": "string"
            }
          },
          "metadata": {},
          "execution_count": 29
        }
      ]
    },
    {
      "cell_type": "markdown",
      "source": [
        "<h3 id=\"bool\">tipo de datos boleanos </h3>\n"
      ],
      "metadata": {
        "id": "QM6HM-_d-2a4"
      }
    },
    {
      "cell_type": "code",
      "source": [
        "# Valor  true\n",
        "\n",
        "True"
      ],
      "metadata": {
        "colab": {
          "base_uri": "https://localhost:8080/"
        },
        "id": "jZyOggM7-2a4",
        "outputId": "627d8f37-ddfc-438e-8399-c6d71fc9d329"
      },
      "execution_count": 1,
      "outputs": [
        {
          "output_type": "execute_result",
          "data": {
            "text/plain": [
              "True"
            ]
          },
          "metadata": {},
          "execution_count": 1
        }
      ]
    },
    {
      "cell_type": "code",
      "source": [
        "# Valor  false\n",
        "\n",
        "False"
      ],
      "metadata": {
        "colab": {
          "base_uri": "https://localhost:8080/"
        },
        "id": "FlmKRqaL-2a4",
        "outputId": "2b2ed7fe-c590-4c92-fb3b-6592455c0f28"
      },
      "execution_count": 2,
      "outputs": [
        {
          "output_type": "execute_result",
          "data": {
            "text/plain": [
              "False"
            ]
          },
          "metadata": {},
          "execution_count": 2
        }
      ]
    },
    {
      "cell_type": "code",
      "source": [
        "# validar el tipo de dato True\n",
        "\n",
        "type(True)"
      ],
      "metadata": {
        "colab": {
          "base_uri": "https://localhost:8080/"
        },
        "id": "1qqcaMPD-2a5",
        "outputId": "8200cfbe-57bf-4d4f-b391-c54ca1ff88d9"
      },
      "execution_count": 3,
      "outputs": [
        {
          "output_type": "execute_result",
          "data": {
            "text/plain": [
              "bool"
            ]
          },
          "metadata": {},
          "execution_count": 3
        }
      ]
    },
    {
      "cell_type": "code",
      "source": [
        "# validar el tipo de dato False\n",
        "\n",
        "type(False)"
      ],
      "metadata": {
        "colab": {
          "base_uri": "https://localhost:8080/"
        },
        "id": "O5gKuMPg-2a5",
        "outputId": "789f9088-ccf3-4e58-e678-16f9fe76ec5a"
      },
      "execution_count": 5,
      "outputs": [
        {
          "output_type": "execute_result",
          "data": {
            "text/plain": [
              "bool"
            ]
          },
          "metadata": {},
          "execution_count": 5
        }
      ]
    },
    {
      "cell_type": "code",
      "source": [
        "# Convierta  True a int\n",
        "\n",
        "int(True)"
      ],
      "metadata": {
        "colab": {
          "base_uri": "https://localhost:8080/"
        },
        "id": "3MeO_bhF-2a5",
        "outputId": "274c3a5c-8f07-48da-99dc-1228524a392f"
      },
      "execution_count": 4,
      "outputs": [
        {
          "output_type": "execute_result",
          "data": {
            "text/plain": [
              "1"
            ]
          },
          "metadata": {},
          "execution_count": 4
        }
      ]
    },
    {
      "cell_type": "code",
      "source": [
        "# Convierta 1 a boolean\n",
        "\n",
        "bool(1)"
      ],
      "metadata": {
        "colab": {
          "base_uri": "https://localhost:8080/"
        },
        "id": "gnkVBKl0-2a5",
        "outputId": "e136807d-5064-48e4-d89d-cd8517f83b97"
      },
      "execution_count": 6,
      "outputs": [
        {
          "output_type": "execute_result",
          "data": {
            "text/plain": [
              "True"
            ]
          },
          "metadata": {},
          "execution_count": 6
        }
      ]
    },
    {
      "cell_type": "code",
      "source": [
        "# Convierta 0 a boolean\n",
        "\n",
        "bool(0)"
      ],
      "metadata": {
        "colab": {
          "base_uri": "https://localhost:8080/"
        },
        "id": "TbpucNlS-2a6",
        "outputId": "4d52984c-8b0b-4c08-dd8c-fc0cda9d23b5"
      },
      "execution_count": 7,
      "outputs": [
        {
          "output_type": "execute_result",
          "data": {
            "text/plain": [
              "False"
            ]
          },
          "metadata": {},
          "execution_count": 7
        }
      ]
    },
    {
      "cell_type": "code",
      "source": [
        "# Convierta True a float\n",
        "\n",
        "float(True)"
      ],
      "metadata": {
        "colab": {
          "base_uri": "https://localhost:8080/"
        },
        "id": "2IDqgkHI-2a6",
        "outputId": "4e5a5e1d-5f6c-4581-d222-b7513052c0a4"
      },
      "execution_count": 8,
      "outputs": [
        {
          "output_type": "execute_result",
          "data": {
            "text/plain": [
              "1.0"
            ]
          },
          "metadata": {},
          "execution_count": 8
        }
      ]
    },
    {
      "cell_type": "markdown",
      "source": [
        "<h3 id=\"exer_type\">Ejercicio: Tipos de datos</h3>\n"
      ],
      "metadata": {
        "id": "6Zg_xw4B-2a6"
      }
    },
    {
      "cell_type": "markdown",
      "source": [
        "<p>cual es el tipo de dato del resultado de : <code>6 / 2</code>?</p>\n"
      ],
      "metadata": {
        "id": "mPPt3h8_-2a6"
      }
    },
    {
      "cell_type": "code",
      "source": [
        "# el tipo de dato generado es un flotante\n",
        "type(6/2) # float"
      ],
      "metadata": {
        "colab": {
          "base_uri": "https://localhost:8080/"
        },
        "id": "0TP2-3NQ-2a6",
        "outputId": "bc23200d-309a-4871-ad95-21a907878d44"
      },
      "execution_count": 10,
      "outputs": [
        {
          "output_type": "execute_result",
          "data": {
            "text/plain": [
              "float"
            ]
          },
          "metadata": {},
          "execution_count": 10
        }
      ]
    },
    {
      "cell_type": "markdown",
      "source": [
        "<p>cual es el tipo de dato del resultado de : <code>6 // 2</code>? </p>\n"
      ],
      "metadata": {
        "id": "CK7z3icD-2a7"
      }
    },
    {
      "cell_type": "code",
      "source": [
        "# el resultado es de tipo entero , division entera\n",
        "type(6//2)"
      ],
      "metadata": {
        "colab": {
          "base_uri": "https://localhost:8080/"
        },
        "id": "9MtJGeQn-2a7",
        "outputId": "77ddc6e5-ba03-453e-e965-0b2eec36772f"
      },
      "execution_count": 11,
      "outputs": [
        {
          "output_type": "execute_result",
          "data": {
            "text/plain": [
              "int"
            ]
          },
          "metadata": {},
          "execution_count": 11
        }
      ]
    },
    {
      "cell_type": "markdown",
      "source": [
        "<hr>\n"
      ],
      "metadata": {
        "id": "tpZMi9g7-2a7"
      }
    },
    {
      "cell_type": "markdown",
      "source": [
        "<h2 id=\"expressions\">Expresiones y variables</h2>\n"
      ],
      "metadata": {
        "id": "XB1cwhEd-2a7"
      }
    },
    {
      "cell_type": "markdown",
      "source": [
        "<h3 id=\"exp\">Expresiones</h3>\n"
      ],
      "metadata": {
        "id": "B1BDeOEO-2a7"
      }
    },
    {
      "cell_type": "code",
      "source": [
        "# la suma de expresiones\n",
        "\n",
        "43 + 60 + 16 + 41"
      ],
      "metadata": {
        "trusted": true,
        "colab": {
          "base_uri": "https://localhost:8080/"
        },
        "id": "DeaD5mPD-2a8",
        "outputId": "390b06a4-17a0-4483-8350-e3a0b1be5640"
      },
      "execution_count": 12,
      "outputs": [
        {
          "output_type": "execute_result",
          "data": {
            "text/plain": [
              "160"
            ]
          },
          "metadata": {},
          "execution_count": 12
        }
      ]
    },
    {
      "cell_type": "code",
      "source": [
        "Resultado negativo de la resta"
      ],
      "metadata": {
        "id": "I_qJKMw1PpdD"
      },
      "execution_count": null,
      "outputs": []
    },
    {
      "cell_type": "code",
      "source": [
        "# resta de expresiones\n",
        "\n",
        "50 - 60"
      ],
      "metadata": {
        "colab": {
          "base_uri": "https://localhost:8080/"
        },
        "id": "goj4hwQ--2a9",
        "outputId": "72cdde85-d5de-4aae-b64c-d6f0bcc01686"
      },
      "execution_count": 14,
      "outputs": [
        {
          "output_type": "execute_result",
          "data": {
            "text/plain": [
              "-10"
            ]
          },
          "metadata": {},
          "execution_count": 14
        }
      ]
    },
    {
      "cell_type": "markdown",
      "source": [
        "<p>Muliplicacion se usa con : *</p>\n"
      ],
      "metadata": {
        "id": "Fc78kAhu-2a9"
      }
    },
    {
      "cell_type": "code",
      "source": [
        "# multiplcacion de expresiones\n",
        "\n",
        "5 * 5"
      ],
      "metadata": {
        "colab": {
          "base_uri": "https://localhost:8080/"
        },
        "id": "rHIyM4L5-2a-",
        "outputId": "a0b9eb73-b210-4b10-c8b6-eac2462f5ca0"
      },
      "execution_count": 15,
      "outputs": [
        {
          "output_type": "execute_result",
          "data": {
            "text/plain": [
              "25"
            ]
          },
          "metadata": {},
          "execution_count": 15
        }
      ]
    },
    {
      "cell_type": "markdown",
      "source": [
        "<p>Division :\n"
      ],
      "metadata": {
        "id": "Ot3MYzCJ-2a-"
      }
    },
    {
      "cell_type": "code",
      "source": [
        "# Division de  expresiones\n",
        "\n",
        "25 / 5"
      ],
      "metadata": {
        "colab": {
          "base_uri": "https://localhost:8080/"
        },
        "id": "QfoquqIR-2a-",
        "outputId": "f79193c8-2e50-4664-d8ba-30286ae73931"
      },
      "execution_count": 16,
      "outputs": [
        {
          "output_type": "execute_result",
          "data": {
            "text/plain": [
              "5.0"
            ]
          },
          "metadata": {},
          "execution_count": 16
        }
      ]
    },
    {
      "cell_type": "code",
      "source": [
        "# Division de  expresiones\n",
        "\n",
        "25 / 6"
      ],
      "metadata": {
        "colab": {
          "base_uri": "https://localhost:8080/"
        },
        "id": "8ka5-uqV-2a-",
        "outputId": "85377564-54be-4a1b-820f-f06c75157823"
      },
      "execution_count": 17,
      "outputs": [
        {
          "output_type": "execute_result",
          "data": {
            "text/plain": [
              "4.166666666666667"
            ]
          },
          "metadata": {},
          "execution_count": 17
        }
      ]
    },
    {
      "cell_type": "markdown",
      "source": [
        "<p>Division entera:\n"
      ],
      "metadata": {
        "id": "G17fxHUQ-2a-"
      }
    },
    {
      "cell_type": "code",
      "source": [
        "# Division de  expresiones enteras\n",
        "\n",
        "25 // 5"
      ],
      "metadata": {
        "colab": {
          "base_uri": "https://localhost:8080/"
        },
        "id": "0Iq_cAsy-2a_",
        "outputId": "bf01c3db-b76a-4113-8b30-f344966bbbcc"
      },
      "execution_count": 18,
      "outputs": [
        {
          "output_type": "execute_result",
          "data": {
            "text/plain": [
              "5"
            ]
          },
          "metadata": {},
          "execution_count": 18
        }
      ]
    },
    {
      "cell_type": "code",
      "source": [
        "# Division de  expresiones enteras\n",
        "\n",
        "25 // 6"
      ],
      "metadata": {
        "colab": {
          "base_uri": "https://localhost:8080/"
        },
        "id": "tW_1Ty48-2a_",
        "outputId": "dacfc5ae-a305-4037-da30-04ac0be3e9a3"
      },
      "execution_count": 19,
      "outputs": [
        {
          "output_type": "execute_result",
          "data": {
            "text/plain": [
              "4"
            ]
          },
          "metadata": {},
          "execution_count": 19
        }
      ]
    },
    {
      "cell_type": "markdown",
      "source": [
        "<h3 id=\"exer_exp\">Ejercicion de expresiones:</h3>\n"
      ],
      "metadata": {
        "id": "bAq--61V-2a_"
      }
    },
    {
      "cell_type": "markdown",
      "source": [
        "<p>Escriba una expresión que calcule cuántas horas hay en 160 minutos::\n"
      ],
      "metadata": {
        "id": "MP8ZSReD-2a_"
      }
    },
    {
      "cell_type": "code",
      "source": [
        "# expresion 2 horas valor entero\n",
        "1\n",
        "60/60 \n",
        "\n",
        "# Or \n",
        "\n",
        "160//60"
      ],
      "metadata": {
        "colab": {
          "base_uri": "https://localhost:8080/"
        },
        "id": "PmqKV6i7-2a_",
        "outputId": "ea3db12d-ce1c-47e0-ecb0-72f3042d9cc0"
      },
      "execution_count": 20,
      "outputs": [
        {
          "output_type": "execute_result",
          "data": {
            "text/plain": [
              "2"
            ]
          },
          "metadata": {},
          "execution_count": 20
        }
      ]
    },
    {
      "cell_type": "markdown",
      "source": [
        "Expresiones matematicas mas complejas :"
      ],
      "metadata": {
        "id": "HvpDyzWZSspk"
      }
    },
    {
      "cell_type": "code",
      "source": [
        "# expresion matematica +*\n",
        "\n",
        "30 + 2 * 60"
      ],
      "metadata": {
        "colab": {
          "base_uri": "https://localhost:8080/"
        },
        "id": "iAtC8d_P-2bA",
        "outputId": "7dd9ba4d-7279-4f9c-b806-a206cdacf1b0"
      },
      "execution_count": 21,
      "outputs": [
        {
          "output_type": "execute_result",
          "data": {
            "text/plain": [
              "150"
            ]
          },
          "metadata": {},
          "execution_count": 21
        }
      ]
    },
    {
      "cell_type": "code",
      "source": [
        "# expresion matematica +* con separador de calculo(), el valor cambia en estos casos\n",
        "\n",
        "(30 + 2) * 60"
      ],
      "metadata": {
        "colab": {
          "base_uri": "https://localhost:8080/"
        },
        "id": "QCIP46wo-2bA",
        "outputId": "8f27665b-85c6-4f35-eae9-59d263760501"
      },
      "execution_count": 22,
      "outputs": [
        {
          "output_type": "execute_result",
          "data": {
            "text/plain": [
              "1920"
            ]
          },
          "metadata": {},
          "execution_count": 22
        }
      ]
    },
    {
      "cell_type": "markdown",
      "source": [
        "<h3 id=\"var\">Variables</h3>\n"
      ],
      "metadata": {
        "id": "YsIK2kJ1-2bB"
      }
    },
    {
      "cell_type": "markdown",
      "source": [
        "<p>Almacenar valores en la variables, para su posterior uso:</p>\n"
      ],
      "metadata": {
        "id": "cWHE7j8J-2bB"
      }
    },
    {
      "cell_type": "code",
      "source": [
        "# Almacena el  valor en variable x\n",
        "\n",
        "x = 43 + 60 + 16 + 41"
      ],
      "metadata": {
        "id": "Indz4uA5-2bB"
      },
      "execution_count": 23,
      "outputs": []
    },
    {
      "cell_type": "markdown",
      "source": [
        "<p>Valida el valor de la variable:</p>\n"
      ],
      "metadata": {
        "id": "kEirTzgt-2bB"
      }
    },
    {
      "cell_type": "code",
      "source": [
        "# imprime la variable\n",
        "\n",
        "x"
      ],
      "metadata": {
        "colab": {
          "base_uri": "https://localhost:8080/"
        },
        "id": "9Y3Hj_VV-2bC",
        "outputId": "2cb316fb-7597-46a5-b3b4-f229ec38e2a9"
      },
      "execution_count": 24,
      "outputs": [
        {
          "output_type": "execute_result",
          "data": {
            "text/plain": [
              "160"
            ]
          },
          "metadata": {},
          "execution_count": 24
        }
      ]
    },
    {
      "cell_type": "markdown",
      "source": [
        "<p>Operaciones con la variable:</p>\n"
      ],
      "metadata": {
        "id": "50EzNLGm-2bC"
      }
    },
    {
      "cell_type": "code",
      "source": [
        "# en la variable Y , realizo operacion aritmetica division\n",
        "\n",
        "y = x / 60\n",
        "y"
      ],
      "metadata": {
        "colab": {
          "base_uri": "https://localhost:8080/"
        },
        "id": "J4ZITXrj-2bC",
        "outputId": "51b67165-ba68-4f18-a994-60ce8af4888c"
      },
      "execution_count": 25,
      "outputs": [
        {
          "output_type": "execute_result",
          "data": {
            "text/plain": [
              "2.6666666666666665"
            ]
          },
          "metadata": {},
          "execution_count": 25
        }
      ]
    },
    {
      "cell_type": "markdown",
      "source": [
        "<p>Operacion aritmetica con las misma variable:</p>\n"
      ],
      "metadata": {
        "id": "WckHBT97-2bC"
      }
    },
    {
      "cell_type": "code",
      "source": [
        "# la variable X , realizo operacion con la valor que tiene la variable y realiza la division con la expresion 60\n",
        "\n",
        "x = x / 60\n",
        "x"
      ],
      "metadata": {
        "colab": {
          "base_uri": "https://localhost:8080/"
        },
        "id": "OyxkaTXu-2bC",
        "outputId": "181de560-6bf5-43c0-a6b2-1be9489c644b"
      },
      "execution_count": 26,
      "outputs": [
        {
          "output_type": "execute_result",
          "data": {
            "text/plain": [
              "2.6666666666666665"
            ]
          },
          "metadata": {},
          "execution_count": 26
        }
      ]
    },
    {
      "cell_type": "markdown",
      "source": [
        "<p>Uso de nombres de variables significativos:</p>\n"
      ],
      "metadata": {
        "id": "ti4Yw01M-2bD"
      }
    },
    {
      "cell_type": "code",
      "source": [
        "# nombre de la variable significativa\n",
        "\n",
        "total_min = 43 + 42 + 57 # Duración total de los álbumes en minutos\n",
        "total_min"
      ],
      "metadata": {
        "colab": {
          "base_uri": "https://localhost:8080/"
        },
        "id": "U0VNYJTM-2bD",
        "outputId": "a300a698-ed97-40d9-ab5d-7dbcb7d1bf3c"
      },
      "execution_count": 27,
      "outputs": [
        {
          "output_type": "execute_result",
          "data": {
            "text/plain": [
              "142"
            ]
          },
          "metadata": {},
          "execution_count": 27
        }
      ]
    },
    {
      "cell_type": "code",
      "source": [
        "# nombre de la variable significativa\n",
        "\n",
        "total_hours = total_min / 60 # Duración total de los álbumes en horas \n",
        "total_hours"
      ],
      "metadata": {
        "colab": {
          "base_uri": "https://localhost:8080/"
        },
        "id": "X3MHdIH1-2bD",
        "outputId": "2ed51f9a-aec7-42d7-c032-cc601a166212"
      },
      "execution_count": 28,
      "outputs": [
        {
          "output_type": "execute_result",
          "data": {
            "text/plain": [
              "2.3666666666666667"
            ]
          },
          "metadata": {},
          "execution_count": 28
        }
      ]
    },
    {
      "cell_type": "code",
      "source": [
        "# expresion mas compleja\n",
        "\n",
        "total_hours = (43 + 42 + 57) / 60  # Horas totales en una sola expresión\n",
        "total_hours"
      ],
      "metadata": {
        "id": "Q7ssbulR-2bD"
      },
      "execution_count": null,
      "outputs": []
    },
    {
      "cell_type": "markdown",
      "source": [
        "<h3 id=\"exer_exp_var\">Exercise: Expresiones y Variables en Python</h3>\n"
      ],
      "metadata": {
        "id": "TxTqNm_W-2bE"
      }
    },
    {
      "cell_type": "markdown",
      "source": [
        "<p>cual es el valor de <code>x</code> en <code>x = 3 + 2 * 2</code></p>\n"
      ],
      "metadata": {
        "id": "oueyO7VM-2bE"
      }
    },
    {
      "cell_type": "code",
      "source": [
        "# el valor es 7\n",
        "x = 3 + 2 * 2\n",
        "x"
      ],
      "metadata": {
        "colab": {
          "base_uri": "https://localhost:8080/"
        },
        "id": "Pd-EIuTW-2bE",
        "outputId": "9f1c7cee-a0fc-44d7-f3c3-8350e6d61d3a"
      },
      "execution_count": 30,
      "outputs": [
        {
          "output_type": "execute_result",
          "data": {
            "text/plain": [
              "7"
            ]
          },
          "metadata": {},
          "execution_count": 30
        }
      ]
    },
    {
      "cell_type": "markdown",
      "source": [
        "<p>cual es el valor de  <code>y</code> con <code>y = (3 + 2) * 2</code>?</p>\n"
      ],
      "metadata": {
        "id": "jbfaQVc_-2bE"
      }
    },
    {
      "cell_type": "code",
      "source": [
        "# El valor de la variable y es 10\n",
        "y = (3 + 2) * 2\n",
        "y"
      ],
      "metadata": {
        "colab": {
          "base_uri": "https://localhost:8080/"
        },
        "id": "fm0LLcAp-2bF",
        "outputId": "8891e1f4-3a95-4185-a8d7-e151dfe2e34a"
      },
      "execution_count": 32,
      "outputs": [
        {
          "output_type": "execute_result",
          "data": {
            "text/plain": [
              "10"
            ]
          },
          "metadata": {},
          "execution_count": 32
        }
      ]
    },
    {
      "cell_type": "markdown",
      "source": [
        "<p>cual es el valor de  <code>z</code> con <code>z = x + y</code>?</p>\n"
      ],
      "metadata": {
        "id": "kJaWs-dh-2bF"
      }
    },
    {
      "cell_type": "code",
      "source": [
        "# el valor de z es 17\n",
        "z = x + y\n",
        "z"
      ],
      "metadata": {
        "colab": {
          "base_uri": "https://localhost:8080/"
        },
        "id": "hfduhKJB-2bG",
        "outputId": "ffae33fd-3fb6-498d-df1d-7fec84f33d84"
      },
      "execution_count": 35,
      "outputs": [
        {
          "output_type": "execute_result",
          "data": {
            "text/plain": [
              "17"
            ]
          },
          "metadata": {},
          "execution_count": 35
        }
      ]
    },
    {
      "cell_type": "markdown",
      "source": [
        "Operaciones con String"
      ],
      "metadata": {
        "id": "zyTz6qjcgUTl"
      }
    },
    {
      "cell_type": "code",
      "source": [
        "\"Michael Jackson\""
      ],
      "metadata": {
        "colab": {
          "base_uri": "https://localhost:8080/",
          "height": 35
        },
        "id": "FFquBkJJgjb-",
        "outputId": "3e2e8f70-1fc0-47cc-ac06-7b628069d403"
      },
      "execution_count": 36,
      "outputs": [
        {
          "output_type": "execute_result",
          "data": {
            "text/plain": [
              "'Michael Jackson'"
            ],
            "application/vnd.google.colaboratory.intrinsic+json": {
              "type": "string"
            }
          },
          "metadata": {},
          "execution_count": 36
        }
      ]
    },
    {
      "cell_type": "code",
      "source": [
        "# espacios entre datos string\n",
        "\n",
        "'1 2 3 4 5 6 '"
      ],
      "metadata": {
        "colab": {
          "base_uri": "https://localhost:8080/",
          "height": 35
        },
        "id": "XE3TrpLFgrOc",
        "outputId": "32a100e5-018b-4f64-b84f-bb3727166ed1"
      },
      "execution_count": 37,
      "outputs": [
        {
          "output_type": "execute_result",
          "data": {
            "text/plain": [
              "'1 2 3 4 5 6 '"
            ],
            "application/vnd.google.colaboratory.intrinsic+json": {
              "type": "string"
            }
          },
          "metadata": {},
          "execution_count": 37
        }
      ]
    },
    {
      "cell_type": "markdown",
      "source": [
        "indices"
      ],
      "metadata": {
        "id": "F4Z5LkhFhQ7r"
      }
    },
    {
      "cell_type": "code",
      "source": [
        "name= \"michael jackson\"\n",
        "print(name[6])\n",
        "print(name[13])"
      ],
      "metadata": {
        "colab": {
          "base_uri": "https://localhost:8080/"
        },
        "id": "FE_oHCuXhSjT",
        "outputId": "13d8658d-14ee-43ed-c795-6f867c2c50c8"
      },
      "execution_count": 41,
      "outputs": [
        {
          "output_type": "stream",
          "name": "stdout",
          "text": [
            "l\n",
            "o\n"
          ]
        }
      ]
    },
    {
      "cell_type": "code",
      "source": [
        "# ubicacion de la cadena \n",
        "name[0:5:2]"
      ],
      "metadata": {
        "colab": {
          "base_uri": "https://localhost:8080/",
          "height": 35
        },
        "id": "mf9UWog1jU6K",
        "outputId": "4f7c0e34-2034-4a82-af1e-368cc680fda4"
      },
      "execution_count": 43,
      "outputs": [
        {
          "output_type": "execute_result",
          "data": {
            "text/plain": [
              "'mca'"
            ],
            "application/vnd.google.colaboratory.intrinsic+json": {
              "type": "string"
            }
          },
          "metadata": {},
          "execution_count": 43
        }
      ]
    },
    {
      "cell_type": "code",
      "source": [
        "Concatenar strings"
      ],
      "metadata": {
        "id": "lMEMNyRAi_f2"
      },
      "execution_count": null,
      "outputs": []
    },
    {
      "cell_type": "code",
      "source": [
        "# concatenar dos cadenas \n",
        "statement = name + \"is the best\"\n",
        "statement"
      ],
      "metadata": {
        "colab": {
          "base_uri": "https://localhost:8080/",
          "height": 35
        },
        "id": "4co0ieEnjmr-",
        "outputId": "1bc3557c-8a45-46b7-b0ac-0f7117323da1"
      },
      "execution_count": 45,
      "outputs": [
        {
          "output_type": "execute_result",
          "data": {
            "text/plain": [
              "'michael jacksonis the best'"
            ],
            "application/vnd.google.colaboratory.intrinsic+json": {
              "type": "string"
            }
          },
          "metadata": {},
          "execution_count": 45
        }
      ]
    },
    {
      "cell_type": "code",
      "source": [
        "name = name + \" is the best\"\n",
        "name"
      ],
      "metadata": {
        "colab": {
          "base_uri": "https://localhost:8080/",
          "height": 35
        },
        "id": "QCZ7u511j7rR",
        "outputId": "3ac28826-8281-44c9-bf97-d79e0996c5f4"
      },
      "execution_count": 46,
      "outputs": [
        {
          "output_type": "execute_result",
          "data": {
            "text/plain": [
              "'michael jackson is the best'"
            ],
            "application/vnd.google.colaboratory.intrinsic+json": {
              "type": "string"
            }
          },
          "metadata": {},
          "execution_count": 46
        }
      ]
    },
    {
      "cell_type": "markdown",
      "source": [
        "Operaciones con string"
      ],
      "metadata": {
        "id": "1zQ7TPtpkF_L"
      }
    },
    {
      "cell_type": "code",
      "source": [
        "# cambio a mayusculas\n",
        "\n",
        "a = \"Thriller is the sixth studio album\"\n",
        "print(\"before upper:\", a)\n",
        "b = a.upper()\n",
        "print(\"After upper:\", b)"
      ],
      "metadata": {
        "colab": {
          "base_uri": "https://localhost:8080/"
        },
        "id": "CMO_7_56kQWF",
        "outputId": "f4ff6258-0683-4955-eadd-16521466bb79"
      },
      "execution_count": 47,
      "outputs": [
        {
          "output_type": "stream",
          "name": "stdout",
          "text": [
            "before upper: Thriller is the sixth studio album\n",
            "After upper: THRILLER IS THE SIXTH STUDIO ALBUM\n"
          ]
        }
      ]
    },
    {
      "cell_type": "code",
      "source": [
        "# replace de cadenas \n",
        "a = \"Michael Jackson is the best\"\n",
        "b = a.replace('Michael', 'Janet')\n",
        "b"
      ],
      "metadata": {
        "colab": {
          "base_uri": "https://localhost:8080/",
          "height": 35
        },
        "id": "cQ-8Wkgnk-C6",
        "outputId": "a6d63f17-c61e-4d6f-af43-c0aeb9656163"
      },
      "execution_count": 48,
      "outputs": [
        {
          "output_type": "execute_result",
          "data": {
            "text/plain": [
              "'Janet Jackson is the best'"
            ],
            "application/vnd.google.colaboratory.intrinsic+json": {
              "type": "string"
            }
          },
          "metadata": {},
          "execution_count": 48
        }
      ]
    },
    {
      "cell_type": "code",
      "source": [
        "# busquedas en el String\n",
        "name = \"Michael Jackson\"\n",
        "name.find('el')"
      ],
      "metadata": {
        "colab": {
          "base_uri": "https://localhost:8080/"
        },
        "id": "ivJ3LG6wllhV",
        "outputId": "79b3dc75-abbe-46d9-fe89-ddc3f83f4fed"
      },
      "execution_count": 49,
      "outputs": [
        {
          "output_type": "execute_result",
          "data": {
            "text/plain": [
              "5"
            ]
          },
          "metadata": {},
          "execution_count": 49
        }
      ]
    },
    {
      "cell_type": "code",
      "source": [
        "Numbers = \"0123456\""
      ],
      "metadata": {
        "id": "mOXyAkBMoKw_"
      },
      "execution_count": 50,
      "outputs": []
    },
    {
      "cell_type": "code",
      "source": [
        "#Numbers[::3]\n",
        "Numbers[::2]\n",
        "#Numbers[::6]"
      ],
      "metadata": {
        "colab": {
          "base_uri": "https://localhost:8080/",
          "height": 35
        },
        "id": "lZzS3ugpoMZA",
        "outputId": "7907711e-8c70-45e3-d9a8-9bd292d2976f"
      },
      "execution_count": 53,
      "outputs": [
        {
          "output_type": "execute_result",
          "data": {
            "text/plain": [
              "'0246'"
            ],
            "application/vnd.google.colaboratory.intrinsic+json": {
              "type": "string"
            }
          },
          "metadata": {},
          "execution_count": 53
        }
      ]
    },
    {
      "cell_type": "code",
      "source": [
        "\"0123456\".find('1')"
      ],
      "metadata": {
        "colab": {
          "base_uri": "https://localhost:8080/"
        },
        "id": "tEmAFOb5puCH",
        "outputId": "e68a1b65-5a6b-49b3-8949-05619410edf4"
      },
      "execution_count": 54,
      "outputs": [
        {
          "output_type": "execute_result",
          "data": {
            "text/plain": [
              "1"
            ]
          },
          "metadata": {},
          "execution_count": 54
        }
      ]
    }
  ]
}