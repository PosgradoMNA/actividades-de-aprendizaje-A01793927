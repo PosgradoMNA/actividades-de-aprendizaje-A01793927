{
  "metadata": {
    "anaconda-cloud": {},
    "kernelspec": {
      "name": "python",
      "display_name": "Pyolite",
      "language": "python"
    },
    "language_info": {
      "codemirror_mode": {
        "name": "python",
        "version": 3
      },
      "file_extension": ".py",
      "mimetype": "text/x-python",
      "name": "python",
      "nbconvert_exporter": "python",
      "pygments_lexer": "ipython3",
      "version": "3.8"
    },
    "colab": {
      "provenance": [],
      "collapsed_sections": []
    }
  },
  "nbformat_minor": 0,
  "nbformat": 4,
  "cells": [
    {
      "cell_type": "markdown",
      "source": [
        "Notas\n",
        "# Andres Javier galindo Vargas\n",
        "# A01793927"
      ],
      "metadata": {
        "id": "bTXlc1Yr8vue"
      }
    },
    {
      "cell_type": "code",
      "source": [
        "import pandas as pd"
      ],
      "metadata": {
        "id": "1S5Ny1yf9NC4"
      },
      "execution_count": 2,
      "outputs": []
    },
    {
      "cell_type": "code",
      "source": [
        "#Define un dictionario 'x'\n",
        "\n",
        "x = {'Name': ['Rose','John', 'Jane', 'Mary'], 'ID': [1, 2, 3, 4], 'Department': ['Architect Group', 'Software Group', 'Design Team', 'Infrastructure'], \n",
        "      'Salary':[100000, 80000, 50000, 60000]}\n",
        "\n",
        "#casting the dictionary to a DataFrame\n",
        "df = pd.DataFrame(x)\n",
        "\n",
        "#display the result df\n",
        "df"
      ],
      "metadata": {
        "trusted": true,
        "colab": {
          "base_uri": "https://localhost:8080/",
          "height": 175
        },
        "id": "OTgljRBH8vu_",
        "outputId": "14ba4c5c-4e92-4ccc-e200-4e9813b64d1b"
      },
      "execution_count": 3,
      "outputs": [
        {
          "output_type": "execute_result",
          "data": {
            "text/plain": [
              "   Name  ID       Department  Salary\n",
              "0  Rose   1  Architect Group  100000\n",
              "1  John   2   Software Group   80000\n",
              "2  Jane   3      Design Team   50000\n",
              "3  Mary   4   Infrastructure   60000"
            ],
            "text/html": [
              "\n",
              "  <div id=\"df-ec25e46a-74db-4498-838c-307d0c91f9bc\">\n",
              "    <div class=\"colab-df-container\">\n",
              "      <div>\n",
              "<style scoped>\n",
              "    .dataframe tbody tr th:only-of-type {\n",
              "        vertical-align: middle;\n",
              "    }\n",
              "\n",
              "    .dataframe tbody tr th {\n",
              "        vertical-align: top;\n",
              "    }\n",
              "\n",
              "    .dataframe thead th {\n",
              "        text-align: right;\n",
              "    }\n",
              "</style>\n",
              "<table border=\"1\" class=\"dataframe\">\n",
              "  <thead>\n",
              "    <tr style=\"text-align: right;\">\n",
              "      <th></th>\n",
              "      <th>Name</th>\n",
              "      <th>ID</th>\n",
              "      <th>Department</th>\n",
              "      <th>Salary</th>\n",
              "    </tr>\n",
              "  </thead>\n",
              "  <tbody>\n",
              "    <tr>\n",
              "      <th>0</th>\n",
              "      <td>Rose</td>\n",
              "      <td>1</td>\n",
              "      <td>Architect Group</td>\n",
              "      <td>100000</td>\n",
              "    </tr>\n",
              "    <tr>\n",
              "      <th>1</th>\n",
              "      <td>John</td>\n",
              "      <td>2</td>\n",
              "      <td>Software Group</td>\n",
              "      <td>80000</td>\n",
              "    </tr>\n",
              "    <tr>\n",
              "      <th>2</th>\n",
              "      <td>Jane</td>\n",
              "      <td>3</td>\n",
              "      <td>Design Team</td>\n",
              "      <td>50000</td>\n",
              "    </tr>\n",
              "    <tr>\n",
              "      <th>3</th>\n",
              "      <td>Mary</td>\n",
              "      <td>4</td>\n",
              "      <td>Infrastructure</td>\n",
              "      <td>60000</td>\n",
              "    </tr>\n",
              "  </tbody>\n",
              "</table>\n",
              "</div>\n",
              "      <button class=\"colab-df-convert\" onclick=\"convertToInteractive('df-ec25e46a-74db-4498-838c-307d0c91f9bc')\"\n",
              "              title=\"Convert this dataframe to an interactive table.\"\n",
              "              style=\"display:none;\">\n",
              "        \n",
              "  <svg xmlns=\"http://www.w3.org/2000/svg\" height=\"24px\"viewBox=\"0 0 24 24\"\n",
              "       width=\"24px\">\n",
              "    <path d=\"M0 0h24v24H0V0z\" fill=\"none\"/>\n",
              "    <path d=\"M18.56 5.44l.94 2.06.94-2.06 2.06-.94-2.06-.94-.94-2.06-.94 2.06-2.06.94zm-11 1L8.5 8.5l.94-2.06 2.06-.94-2.06-.94L8.5 2.5l-.94 2.06-2.06.94zm10 10l.94 2.06.94-2.06 2.06-.94-2.06-.94-.94-2.06-.94 2.06-2.06.94z\"/><path d=\"M17.41 7.96l-1.37-1.37c-.4-.4-.92-.59-1.43-.59-.52 0-1.04.2-1.43.59L10.3 9.45l-7.72 7.72c-.78.78-.78 2.05 0 2.83L4 21.41c.39.39.9.59 1.41.59.51 0 1.02-.2 1.41-.59l7.78-7.78 2.81-2.81c.8-.78.8-2.07 0-2.86zM5.41 20L4 18.59l7.72-7.72 1.47 1.35L5.41 20z\"/>\n",
              "  </svg>\n",
              "      </button>\n",
              "      \n",
              "  <style>\n",
              "    .colab-df-container {\n",
              "      display:flex;\n",
              "      flex-wrap:wrap;\n",
              "      gap: 12px;\n",
              "    }\n",
              "\n",
              "    .colab-df-convert {\n",
              "      background-color: #E8F0FE;\n",
              "      border: none;\n",
              "      border-radius: 50%;\n",
              "      cursor: pointer;\n",
              "      display: none;\n",
              "      fill: #1967D2;\n",
              "      height: 32px;\n",
              "      padding: 0 0 0 0;\n",
              "      width: 32px;\n",
              "    }\n",
              "\n",
              "    .colab-df-convert:hover {\n",
              "      background-color: #E2EBFA;\n",
              "      box-shadow: 0px 1px 2px rgba(60, 64, 67, 0.3), 0px 1px 3px 1px rgba(60, 64, 67, 0.15);\n",
              "      fill: #174EA6;\n",
              "    }\n",
              "\n",
              "    [theme=dark] .colab-df-convert {\n",
              "      background-color: #3B4455;\n",
              "      fill: #D2E3FC;\n",
              "    }\n",
              "\n",
              "    [theme=dark] .colab-df-convert:hover {\n",
              "      background-color: #434B5C;\n",
              "      box-shadow: 0px 1px 3px 1px rgba(0, 0, 0, 0.15);\n",
              "      filter: drop-shadow(0px 1px 2px rgba(0, 0, 0, 0.3));\n",
              "      fill: #FFFFFF;\n",
              "    }\n",
              "  </style>\n",
              "\n",
              "      <script>\n",
              "        const buttonEl =\n",
              "          document.querySelector('#df-ec25e46a-74db-4498-838c-307d0c91f9bc button.colab-df-convert');\n",
              "        buttonEl.style.display =\n",
              "          google.colab.kernel.accessAllowed ? 'block' : 'none';\n",
              "\n",
              "        async function convertToInteractive(key) {\n",
              "          const element = document.querySelector('#df-ec25e46a-74db-4498-838c-307d0c91f9bc');\n",
              "          const dataTable =\n",
              "            await google.colab.kernel.invokeFunction('convertToInteractive',\n",
              "                                                     [key], {});\n",
              "          if (!dataTable) return;\n",
              "\n",
              "          const docLinkHtml = 'Like what you see? Visit the ' +\n",
              "            '<a target=\"_blank\" href=https://colab.research.google.com/notebooks/data_table.ipynb>data table notebook</a>'\n",
              "            + ' to learn more about interactive tables.';\n",
              "          element.innerHTML = '';\n",
              "          dataTable['output_type'] = 'display_data';\n",
              "          await google.colab.output.renderOutput(dataTable, element);\n",
              "          const docLink = document.createElement('div');\n",
              "          docLink.innerHTML = docLinkHtml;\n",
              "          element.appendChild(docLink);\n",
              "        }\n",
              "      </script>\n",
              "    </div>\n",
              "  </div>\n",
              "  "
            ]
          },
          "metadata": {},
          "execution_count": 3
        }
      ]
    },
    {
      "cell_type": "code",
      "source": [
        "#Recuperando la columna \"ID\" y asignándola a una variable x\n",
        "x = df[['ID']]\n",
        "x"
      ],
      "metadata": {
        "scrolled": true,
        "trusted": true,
        "id": "cjuV8G3R8vvQ",
        "outputId": "b250580b-e82f-48af-b1b7-a449c98f46c6"
      },
      "execution_count": null,
      "outputs": [
        {
          "execution_count": 3,
          "output_type": "execute_result",
          "data": {
            "text/plain": "   ID\n0   1\n1   2\n2   3\n3   4",
            "text/html": "<div>\n<style scoped>\n    .dataframe tbody tr th:only-of-type {\n        vertical-align: middle;\n    }\n\n    .dataframe tbody tr th {\n        vertical-align: top;\n    }\n\n    .dataframe thead th {\n        text-align: right;\n    }\n</style>\n<table border=\"1\" class=\"dataframe\">\n  <thead>\n    <tr style=\"text-align: right;\">\n      <th></th>\n      <th>ID</th>\n    </tr>\n  </thead>\n  <tbody>\n    <tr>\n      <th>0</th>\n      <td>1</td>\n    </tr>\n    <tr>\n      <th>1</th>\n      <td>2</td>\n    </tr>\n    <tr>\n      <th>2</th>\n      <td>3</td>\n    </tr>\n    <tr>\n      <th>3</th>\n      <td>4</td>\n    </tr>\n  </tbody>\n</table>\n</div>"
          },
          "metadata": {}
        }
      ]
    },
    {
      "cell_type": "code",
      "source": [
        "#comprobar el tipo de x\n",
        "type(x)"
      ],
      "metadata": {
        "trusted": true,
        "id": "7xIgA17R8vvT",
        "outputId": "57e907df-9e4a-4111-8fea-35f3cc22d4a6"
      },
      "execution_count": null,
      "outputs": [
        {
          "execution_count": 4,
          "output_type": "execute_result",
          "data": {
            "text/plain": "pandas.core.frame.DataFrame"
          },
          "metadata": {}
        }
      ]
    },
    {
      "cell_type": "code",
      "source": [
        "#Recuperando las columnas Departamento, Salario e ID y asignándolas a una variable z\n",
        "\n",
        "z = df[['Department','Salary','ID']]\n",
        "z"
      ],
      "metadata": {
        "trusted": true,
        "id": "BK6aOJO98vvY",
        "outputId": "59a39351-40ab-43b2-e781-293e200473f1"
      },
      "execution_count": null,
      "outputs": [
        {
          "execution_count": 5,
          "output_type": "execute_result",
          "data": {
            "text/plain": "        Department  Salary  ID\n0  Architect Group  100000   1\n1   Software Group   80000   2\n2      Design Team   50000   3\n3   Infrastructure   60000   4",
            "text/html": "<div>\n<style scoped>\n    .dataframe tbody tr th:only-of-type {\n        vertical-align: middle;\n    }\n\n    .dataframe tbody tr th {\n        vertical-align: top;\n    }\n\n    .dataframe thead th {\n        text-align: right;\n    }\n</style>\n<table border=\"1\" class=\"dataframe\">\n  <thead>\n    <tr style=\"text-align: right;\">\n      <th></th>\n      <th>Department</th>\n      <th>Salary</th>\n      <th>ID</th>\n    </tr>\n  </thead>\n  <tbody>\n    <tr>\n      <th>0</th>\n      <td>Architect Group</td>\n      <td>100000</td>\n      <td>1</td>\n    </tr>\n    <tr>\n      <th>1</th>\n      <td>Software Group</td>\n      <td>80000</td>\n      <td>2</td>\n    </tr>\n    <tr>\n      <th>2</th>\n      <td>Design Team</td>\n      <td>50000</td>\n      <td>3</td>\n    </tr>\n    <tr>\n      <th>3</th>\n      <td>Infrastructure</td>\n      <td>60000</td>\n      <td>4</td>\n    </tr>\n  </tbody>\n</table>\n</div>"
          },
          "metadata": {}
        }
      ]
    },
    {
      "cell_type": "code",
      "source": [
        "# crear df con diccionarios \n",
        "a = {'Student':['David', 'Samuel', 'Terry', 'Evan'],\n",
        "     'Age':['27', '24', '22', '32'],\n",
        "     'Country':['UK', 'Canada', 'China', 'USA'],\n",
        "     'Course':['Python','Data Structures','Machine Learning','Web Development'],\n",
        "     'Marks':['85','72','89','76']}\n",
        "df1 = pd.DataFrame(a)\n",
        "df1\n"
      ],
      "metadata": {
        "trusted": true,
        "id": "g-fKL1sm8vvg",
        "outputId": "aa631fcc-98ee-477f-8d5f-397f221cfba3"
      },
      "execution_count": null,
      "outputs": [
        {
          "execution_count": 7,
          "output_type": "execute_result",
          "data": {
            "text/plain": "  Student Age Country            Course Marks\n0   David  27      UK            Python    85\n1  Samuel  24  Canada   Data Structures    72\n2   Terry  22   China  Machine Learning    89\n3    Evan  32     USA   Web Development    76",
            "text/html": "<div>\n<style scoped>\n    .dataframe tbody tr th:only-of-type {\n        vertical-align: middle;\n    }\n\n    .dataframe tbody tr th {\n        vertical-align: top;\n    }\n\n    .dataframe thead th {\n        text-align: right;\n    }\n</style>\n<table border=\"1\" class=\"dataframe\">\n  <thead>\n    <tr style=\"text-align: right;\">\n      <th></th>\n      <th>Student</th>\n      <th>Age</th>\n      <th>Country</th>\n      <th>Course</th>\n      <th>Marks</th>\n    </tr>\n  </thead>\n  <tbody>\n    <tr>\n      <th>0</th>\n      <td>David</td>\n      <td>27</td>\n      <td>UK</td>\n      <td>Python</td>\n      <td>85</td>\n    </tr>\n    <tr>\n      <th>1</th>\n      <td>Samuel</td>\n      <td>24</td>\n      <td>Canada</td>\n      <td>Data Structures</td>\n      <td>72</td>\n    </tr>\n    <tr>\n      <th>2</th>\n      <td>Terry</td>\n      <td>22</td>\n      <td>China</td>\n      <td>Machine Learning</td>\n      <td>89</td>\n    </tr>\n    <tr>\n      <th>3</th>\n      <td>Evan</td>\n      <td>32</td>\n      <td>USA</td>\n      <td>Web Development</td>\n      <td>76</td>\n    </tr>\n  </tbody>\n</table>\n</div>"
          },
          "metadata": {}
        }
      ]
    },
    {
      "cell_type": "code",
      "source": [
        "b = df1[['Marks']]\n",
        "b"
      ],
      "metadata": {
        "trusted": true,
        "id": "wMgVOFY08vvj",
        "outputId": "80c24f6d-87c5-458c-b25b-232caaa4bf02"
      },
      "execution_count": null,
      "outputs": [
        {
          "execution_count": 8,
          "output_type": "execute_result",
          "data": {
            "text/plain": "  Marks\n0    85\n1    72\n2    89\n3    76",
            "text/html": "<div>\n<style scoped>\n    .dataframe tbody tr th:only-of-type {\n        vertical-align: middle;\n    }\n\n    .dataframe tbody tr th {\n        vertical-align: top;\n    }\n\n    .dataframe thead th {\n        text-align: right;\n    }\n</style>\n<table border=\"1\" class=\"dataframe\">\n  <thead>\n    <tr style=\"text-align: right;\">\n      <th></th>\n      <th>Marks</th>\n    </tr>\n  </thead>\n  <tbody>\n    <tr>\n      <th>0</th>\n      <td>85</td>\n    </tr>\n    <tr>\n      <th>1</th>\n      <td>72</td>\n    </tr>\n    <tr>\n      <th>2</th>\n      <td>89</td>\n    </tr>\n    <tr>\n      <th>3</th>\n      <td>76</td>\n    </tr>\n  </tbody>\n</table>\n</div>"
          },
          "metadata": {}
        }
      ]
    },
    {
      "cell_type": "code",
      "source": [
        "# quiz\n",
        "c = df1[['Country','Course']]\n",
        "c\n",
        " "
      ],
      "metadata": {
        "trusted": true,
        "id": "S2fc4lrS8vvm",
        "outputId": "c5e045c3-3c39-48bf-dd5c-690d7e69f26b"
      },
      "execution_count": null,
      "outputs": [
        {
          "execution_count": 9,
          "output_type": "execute_result",
          "data": {
            "text/plain": "  Country            Course\n0      UK            Python\n1  Canada   Data Structures\n2   China  Machine Learning\n3     USA   Web Development",
            "text/html": "<div>\n<style scoped>\n    .dataframe tbody tr th:only-of-type {\n        vertical-align: middle;\n    }\n\n    .dataframe tbody tr th {\n        vertical-align: top;\n    }\n\n    .dataframe thead th {\n        text-align: right;\n    }\n</style>\n<table border=\"1\" class=\"dataframe\">\n  <thead>\n    <tr style=\"text-align: right;\">\n      <th></th>\n      <th>Country</th>\n      <th>Course</th>\n    </tr>\n  </thead>\n  <tbody>\n    <tr>\n      <th>0</th>\n      <td>UK</td>\n      <td>Python</td>\n    </tr>\n    <tr>\n      <th>1</th>\n      <td>Canada</td>\n      <td>Data Structures</td>\n    </tr>\n    <tr>\n      <th>2</th>\n      <td>China</td>\n      <td>Machine Learning</td>\n    </tr>\n    <tr>\n      <th>3</th>\n      <td>USA</td>\n      <td>Web Development</td>\n    </tr>\n  </tbody>\n</table>\n</div>"
          },
          "metadata": {}
        }
      ]
    },
    {
      "cell_type": "code",
      "source": [
        "# Obtenga la columna Nombre como un objeto de serie\n",
        "\n",
        "x = df['Name']\n",
        "x"
      ],
      "metadata": {
        "trusted": true,
        "id": "7KJWGy7O8vvo",
        "outputId": "e96e3ead-b2e7-4cd9-98ef-cdb3966963a4"
      },
      "execution_count": null,
      "outputs": [
        {
          "execution_count": 10,
          "output_type": "execute_result",
          "data": {
            "text/plain": "0    Rose\n1    John\n2    Jane\n3    Mary\nName: Name, dtype: object"
          },
          "metadata": {}
        }
      ]
    },
    {
      "cell_type": "code",
      "source": [
        "#comprobar el tipo de x\n",
        "type(x)"
      ],
      "metadata": {
        "trusted": true,
        "id": "bcaQnfqD8vvp",
        "outputId": "16b9d2f9-719e-4619-866b-c99cc2ed5f23"
      },
      "execution_count": null,
      "outputs": [
        {
          "execution_count": 11,
          "output_type": "execute_result",
          "data": {
            "text/plain": "pandas.core.series.Series"
          },
          "metadata": {}
        }
      ]
    },
    {
      "cell_type": "code",
      "source": [
        "# Acceda al valor en la primera fila y la primera columna\n",
        "\n",
        "df.iloc[0, 0]"
      ],
      "metadata": {
        "trusted": true,
        "id": "90dQeZ018vvt",
        "outputId": "3e757758-9592-475d-8214-3b8245a507e4"
      },
      "execution_count": null,
      "outputs": [
        {
          "execution_count": 12,
          "output_type": "execute_result",
          "data": {
            "text/plain": "'Rose'"
          },
          "metadata": {}
        }
      ]
    },
    {
      "cell_type": "code",
      "source": [
        "# Acceda al valor en la primera fila y la tercera columna\n",
        "\n",
        "df.iloc[0,2]"
      ],
      "metadata": {
        "trusted": true,
        "id": "BbHfZD-y8vvt",
        "outputId": "0b14ab07-8ec0-411d-da93-5549c2e8d95d"
      },
      "execution_count": null,
      "outputs": [
        {
          "execution_count": 13,
          "output_type": "execute_result",
          "data": {
            "text/plain": "'Architect Group'"
          },
          "metadata": {}
        }
      ]
    },
    {
      "cell_type": "code",
      "source": [
        "# Acceda a la columna usando el nombre\n",
        "\n",
        "df.loc[0, 'Salary']"
      ],
      "metadata": {
        "trusted": true,
        "id": "6_2RwXEa8vvu",
        "outputId": "344f02ad-d59d-4bf8-a69f-1ab3095bf95f"
      },
      "execution_count": null,
      "outputs": [
        {
          "execution_count": 14,
          "output_type": "execute_result",
          "data": {
            "text/plain": "100000"
          },
          "metadata": {}
        }
      ]
    },
    {
      "cell_type": "code",
      "source": [
        "df2=df\n",
        "df2=df2.set_index(\"Name\")"
      ],
      "metadata": {
        "trusted": true,
        "id": "T3wxMZnW8vvw"
      },
      "execution_count": null,
      "outputs": []
    },
    {
      "cell_type": "code",
      "source": [
        "#mostrar las primeras 5 fila\n",
        "df2.head()"
      ],
      "metadata": {
        "trusted": true,
        "id": "HFEUjXJ48vvx",
        "outputId": "faa1ab0d-f418-4c79-801c-da50653cdf49"
      },
      "execution_count": null,
      "outputs": [
        {
          "execution_count": 16,
          "output_type": "execute_result",
          "data": {
            "text/plain": "      ID       Department  Salary\nName                             \nRose   1  Architect Group  100000\nJohn   2   Software Group   80000\nJane   3      Design Team   50000\nMary   4   Infrastructure   60000",
            "text/html": "<div>\n<style scoped>\n    .dataframe tbody tr th:only-of-type {\n        vertical-align: middle;\n    }\n\n    .dataframe tbody tr th {\n        vertical-align: top;\n    }\n\n    .dataframe thead th {\n        text-align: right;\n    }\n</style>\n<table border=\"1\" class=\"dataframe\">\n  <thead>\n    <tr style=\"text-align: right;\">\n      <th></th>\n      <th>ID</th>\n      <th>Department</th>\n      <th>Salary</th>\n    </tr>\n    <tr>\n      <th>Name</th>\n      <th></th>\n      <th></th>\n      <th></th>\n    </tr>\n  </thead>\n  <tbody>\n    <tr>\n      <th>Rose</th>\n      <td>1</td>\n      <td>Architect Group</td>\n      <td>100000</td>\n    </tr>\n    <tr>\n      <th>John</th>\n      <td>2</td>\n      <td>Software Group</td>\n      <td>80000</td>\n    </tr>\n    <tr>\n      <th>Jane</th>\n      <td>3</td>\n      <td>Design Team</td>\n      <td>50000</td>\n    </tr>\n    <tr>\n      <th>Mary</th>\n      <td>4</td>\n      <td>Infrastructure</td>\n      <td>60000</td>\n    </tr>\n  </tbody>\n</table>\n</div>"
          },
          "metadata": {}
        }
      ]
    },
    {
      "cell_type": "code",
      "source": [
        "#Ahora, accedamos a la columna usando el nombre\n",
        "df2.loc['Jane', 'Salary']"
      ],
      "metadata": {
        "trusted": true,
        "id": "Z6TCuxNp8vvy",
        "outputId": "c79b2e99-9659-4c47-b4ed-699d719df173"
      },
      "execution_count": null,
      "outputs": [
        {
          "execution_count": 17,
          "output_type": "execute_result",
          "data": {
            "text/plain": "50000"
          },
          "metadata": {}
        }
      ]
    },
    {
      "cell_type": "code",
      "source": [
        "df2.loc['Jane', 'Department']"
      ],
      "metadata": {
        "trusted": true,
        "id": "RfbDXP368vv0",
        "outputId": "f504ed8b-aa63-4112-d563-5cab57168394"
      },
      "execution_count": null,
      "outputs": [
        {
          "execution_count": 18,
          "output_type": "execute_result",
          "data": {
            "text/plain": "'Design Team'"
          },
          "metadata": {}
        }
      ]
    },
    {
      "cell_type": "code",
      "source": [
        "df2.iloc[3,2]"
      ],
      "metadata": {
        "trusted": true,
        "id": "kcZfyxGy8vv2",
        "outputId": "17cf4c3c-4cc1-4f5d-e48c-1a5dc21a0946"
      },
      "execution_count": null,
      "outputs": [
        {
          "execution_count": 19,
          "output_type": "execute_result",
          "data": {
            "text/plain": "60000"
          },
          "metadata": {}
        }
      ]
    },
    {
      "cell_type": "code",
      "source": [
        "# seleccion de datos anmterior df\n",
        "\n",
        "df.iloc[0:2, 0:3]"
      ],
      "metadata": {
        "trusted": true,
        "id": "43y9ymwh8vv4"
      },
      "execution_count": null,
      "outputs": []
    },
    {
      "cell_type": "code",
      "source": [
        "df.loc[0:2,'ID':'Department']"
      ],
      "metadata": {
        "id": "FEkcwt0D8vv5"
      },
      "execution_count": null,
      "outputs": []
    },
    {
      "cell_type": "code",
      "source": [
        "df2.loc['Rose':'Jane', 'ID':'Department']"
      ],
      "metadata": {
        "id": "NgNqrZkx8vv6"
      },
      "execution_count": null,
      "outputs": []
    }
  ]
}